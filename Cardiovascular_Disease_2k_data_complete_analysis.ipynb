{
 "cells": [
  {
   "cell_type": "code",
   "execution_count": 21,
   "metadata": {},
   "outputs": [
    {
     "data": {
      "text/html": [
       "<div>\n",
       "<style scoped>\n",
       "    .dataframe tbody tr th:only-of-type {\n",
       "        vertical-align: middle;\n",
       "    }\n",
       "\n",
       "    .dataframe tbody tr th {\n",
       "        vertical-align: top;\n",
       "    }\n",
       "\n",
       "    .dataframe thead th {\n",
       "        text-align: right;\n",
       "    }\n",
       "</style>\n",
       "<table border=\"1\" class=\"dataframe\">\n",
       "  <thead>\n",
       "    <tr style=\"text-align: right;\">\n",
       "      <th></th>\n",
       "      <th>id</th>\n",
       "      <th>age</th>\n",
       "      <th>gender</th>\n",
       "      <th>height</th>\n",
       "      <th>weight</th>\n",
       "      <th>ap_hi</th>\n",
       "      <th>ap_lo</th>\n",
       "      <th>cholesterol</th>\n",
       "      <th>gluc</th>\n",
       "      <th>smoke</th>\n",
       "      <th>alco</th>\n",
       "      <th>active</th>\n",
       "      <th>cardio</th>\n",
       "    </tr>\n",
       "  </thead>\n",
       "  <tbody>\n",
       "    <tr>\n",
       "      <td>0</td>\n",
       "      <td>0</td>\n",
       "      <td>18393</td>\n",
       "      <td>2</td>\n",
       "      <td>168</td>\n",
       "      <td>62.0</td>\n",
       "      <td>110</td>\n",
       "      <td>80</td>\n",
       "      <td>1</td>\n",
       "      <td>1</td>\n",
       "      <td>0</td>\n",
       "      <td>0</td>\n",
       "      <td>1</td>\n",
       "      <td>0</td>\n",
       "    </tr>\n",
       "    <tr>\n",
       "      <td>1</td>\n",
       "      <td>1</td>\n",
       "      <td>20228</td>\n",
       "      <td>1</td>\n",
       "      <td>156</td>\n",
       "      <td>85.0</td>\n",
       "      <td>140</td>\n",
       "      <td>90</td>\n",
       "      <td>3</td>\n",
       "      <td>1</td>\n",
       "      <td>0</td>\n",
       "      <td>0</td>\n",
       "      <td>1</td>\n",
       "      <td>1</td>\n",
       "    </tr>\n",
       "    <tr>\n",
       "      <td>2</td>\n",
       "      <td>2</td>\n",
       "      <td>18857</td>\n",
       "      <td>1</td>\n",
       "      <td>165</td>\n",
       "      <td>64.0</td>\n",
       "      <td>130</td>\n",
       "      <td>70</td>\n",
       "      <td>3</td>\n",
       "      <td>1</td>\n",
       "      <td>0</td>\n",
       "      <td>0</td>\n",
       "      <td>0</td>\n",
       "      <td>1</td>\n",
       "    </tr>\n",
       "    <tr>\n",
       "      <td>3</td>\n",
       "      <td>3</td>\n",
       "      <td>17623</td>\n",
       "      <td>2</td>\n",
       "      <td>169</td>\n",
       "      <td>82.0</td>\n",
       "      <td>150</td>\n",
       "      <td>100</td>\n",
       "      <td>1</td>\n",
       "      <td>1</td>\n",
       "      <td>0</td>\n",
       "      <td>0</td>\n",
       "      <td>1</td>\n",
       "      <td>1</td>\n",
       "    </tr>\n",
       "    <tr>\n",
       "      <td>4</td>\n",
       "      <td>4</td>\n",
       "      <td>17474</td>\n",
       "      <td>1</td>\n",
       "      <td>156</td>\n",
       "      <td>56.0</td>\n",
       "      <td>100</td>\n",
       "      <td>60</td>\n",
       "      <td>1</td>\n",
       "      <td>1</td>\n",
       "      <td>0</td>\n",
       "      <td>0</td>\n",
       "      <td>0</td>\n",
       "      <td>0</td>\n",
       "    </tr>\n",
       "    <tr>\n",
       "      <td>...</td>\n",
       "      <td>...</td>\n",
       "      <td>...</td>\n",
       "      <td>...</td>\n",
       "      <td>...</td>\n",
       "      <td>...</td>\n",
       "      <td>...</td>\n",
       "      <td>...</td>\n",
       "      <td>...</td>\n",
       "      <td>...</td>\n",
       "      <td>...</td>\n",
       "      <td>...</td>\n",
       "      <td>...</td>\n",
       "      <td>...</td>\n",
       "    </tr>\n",
       "    <tr>\n",
       "      <td>69995</td>\n",
       "      <td>99993</td>\n",
       "      <td>19240</td>\n",
       "      <td>2</td>\n",
       "      <td>168</td>\n",
       "      <td>76.0</td>\n",
       "      <td>120</td>\n",
       "      <td>80</td>\n",
       "      <td>1</td>\n",
       "      <td>1</td>\n",
       "      <td>1</td>\n",
       "      <td>0</td>\n",
       "      <td>1</td>\n",
       "      <td>0</td>\n",
       "    </tr>\n",
       "    <tr>\n",
       "      <td>69996</td>\n",
       "      <td>99995</td>\n",
       "      <td>22601</td>\n",
       "      <td>1</td>\n",
       "      <td>158</td>\n",
       "      <td>126.0</td>\n",
       "      <td>140</td>\n",
       "      <td>90</td>\n",
       "      <td>2</td>\n",
       "      <td>2</td>\n",
       "      <td>0</td>\n",
       "      <td>0</td>\n",
       "      <td>1</td>\n",
       "      <td>1</td>\n",
       "    </tr>\n",
       "    <tr>\n",
       "      <td>69997</td>\n",
       "      <td>99996</td>\n",
       "      <td>19066</td>\n",
       "      <td>2</td>\n",
       "      <td>183</td>\n",
       "      <td>105.0</td>\n",
       "      <td>180</td>\n",
       "      <td>90</td>\n",
       "      <td>3</td>\n",
       "      <td>1</td>\n",
       "      <td>0</td>\n",
       "      <td>1</td>\n",
       "      <td>0</td>\n",
       "      <td>1</td>\n",
       "    </tr>\n",
       "    <tr>\n",
       "      <td>69998</td>\n",
       "      <td>99998</td>\n",
       "      <td>22431</td>\n",
       "      <td>1</td>\n",
       "      <td>163</td>\n",
       "      <td>72.0</td>\n",
       "      <td>135</td>\n",
       "      <td>80</td>\n",
       "      <td>1</td>\n",
       "      <td>2</td>\n",
       "      <td>0</td>\n",
       "      <td>0</td>\n",
       "      <td>0</td>\n",
       "      <td>1</td>\n",
       "    </tr>\n",
       "    <tr>\n",
       "      <td>69999</td>\n",
       "      <td>99999</td>\n",
       "      <td>20540</td>\n",
       "      <td>1</td>\n",
       "      <td>170</td>\n",
       "      <td>72.0</td>\n",
       "      <td>120</td>\n",
       "      <td>80</td>\n",
       "      <td>2</td>\n",
       "      <td>1</td>\n",
       "      <td>0</td>\n",
       "      <td>0</td>\n",
       "      <td>1</td>\n",
       "      <td>0</td>\n",
       "    </tr>\n",
       "  </tbody>\n",
       "</table>\n",
       "<p>70000 rows × 13 columns</p>\n",
       "</div>"
      ],
      "text/plain": [
       "          id    age  gender  height  weight  ap_hi  ap_lo  cholesterol  gluc  \\\n",
       "0          0  18393       2     168    62.0    110     80            1     1   \n",
       "1          1  20228       1     156    85.0    140     90            3     1   \n",
       "2          2  18857       1     165    64.0    130     70            3     1   \n",
       "3          3  17623       2     169    82.0    150    100            1     1   \n",
       "4          4  17474       1     156    56.0    100     60            1     1   \n",
       "...      ...    ...     ...     ...     ...    ...    ...          ...   ...   \n",
       "69995  99993  19240       2     168    76.0    120     80            1     1   \n",
       "69996  99995  22601       1     158   126.0    140     90            2     2   \n",
       "69997  99996  19066       2     183   105.0    180     90            3     1   \n",
       "69998  99998  22431       1     163    72.0    135     80            1     2   \n",
       "69999  99999  20540       1     170    72.0    120     80            2     1   \n",
       "\n",
       "       smoke  alco  active  cardio  \n",
       "0          0     0       1       0  \n",
       "1          0     0       1       1  \n",
       "2          0     0       0       1  \n",
       "3          0     0       1       1  \n",
       "4          0     0       0       0  \n",
       "...      ...   ...     ...     ...  \n",
       "69995      1     0       1       0  \n",
       "69996      0     0       1       1  \n",
       "69997      0     1       0       1  \n",
       "69998      0     0       0       1  \n",
       "69999      0     0       1       0  \n",
       "\n",
       "[70000 rows x 13 columns]"
      ]
     },
     "execution_count": 21,
     "metadata": {},
     "output_type": "execute_result"
    }
   ],
   "source": [
    "# ANN to predict Cardiovascular disease\n",
    "import csv\n",
    "import time\n",
    "import numpy as np\n",
    "import pandas as pd\n",
    "import matplotlib.pyplot as plt\n",
    "%matplotlib inline\n",
    "plt.rcParams[\"figure.figsize\"] = (12, 8)\n",
    "\n",
    "# dataset input and output\n",
    "dataset = pd.read_csv(\"Cardiovascular_Disease.csv\", delimiter = ';')\n",
    "dataset_len = dataset.shape[0]\n",
    "dataset"
   ]
  },
  {
   "cell_type": "code",
   "execution_count": 22,
   "metadata": {},
   "outputs": [
    {
     "data": {
      "text/html": [
       "<div>\n",
       "<style scoped>\n",
       "    .dataframe tbody tr th:only-of-type {\n",
       "        vertical-align: middle;\n",
       "    }\n",
       "\n",
       "    .dataframe tbody tr th {\n",
       "        vertical-align: top;\n",
       "    }\n",
       "\n",
       "    .dataframe thead th {\n",
       "        text-align: right;\n",
       "    }\n",
       "</style>\n",
       "<table border=\"1\" class=\"dataframe\">\n",
       "  <thead>\n",
       "    <tr style=\"text-align: right;\">\n",
       "      <th></th>\n",
       "      <th>age</th>\n",
       "      <th>gender</th>\n",
       "      <th>height</th>\n",
       "      <th>weight</th>\n",
       "      <th>ap_hi</th>\n",
       "      <th>ap_lo</th>\n",
       "      <th>cholesterol</th>\n",
       "      <th>gluc</th>\n",
       "      <th>smoke</th>\n",
       "      <th>alco</th>\n",
       "      <th>active</th>\n",
       "      <th>cardio</th>\n",
       "    </tr>\n",
       "  </thead>\n",
       "  <tbody>\n",
       "    <tr>\n",
       "      <td>103</td>\n",
       "      <td>49.665753</td>\n",
       "      <td>2</td>\n",
       "      <td>183</td>\n",
       "      <td>95.0</td>\n",
       "      <td>125</td>\n",
       "      <td>80</td>\n",
       "      <td>1</td>\n",
       "      <td>3</td>\n",
       "      <td>1</td>\n",
       "      <td>0</td>\n",
       "      <td>1</td>\n",
       "      <td>0</td>\n",
       "    </tr>\n",
       "    <tr>\n",
       "      <td>112</td>\n",
       "      <td>45.569863</td>\n",
       "      <td>1</td>\n",
       "      <td>158</td>\n",
       "      <td>78.0</td>\n",
       "      <td>110</td>\n",
       "      <td>70</td>\n",
       "      <td>1</td>\n",
       "      <td>1</td>\n",
       "      <td>0</td>\n",
       "      <td>0</td>\n",
       "      <td>1</td>\n",
       "      <td>0</td>\n",
       "    </tr>\n",
       "    <tr>\n",
       "      <td>130</td>\n",
       "      <td>60.238356</td>\n",
       "      <td>2</td>\n",
       "      <td>169</td>\n",
       "      <td>59.0</td>\n",
       "      <td>130</td>\n",
       "      <td>80</td>\n",
       "      <td>1</td>\n",
       "      <td>1</td>\n",
       "      <td>0</td>\n",
       "      <td>0</td>\n",
       "      <td>0</td>\n",
       "      <td>1</td>\n",
       "    </tr>\n",
       "    <tr>\n",
       "      <td>147</td>\n",
       "      <td>64.301370</td>\n",
       "      <td>2</td>\n",
       "      <td>166</td>\n",
       "      <td>69.0</td>\n",
       "      <td>130</td>\n",
       "      <td>90</td>\n",
       "      <td>2</td>\n",
       "      <td>1</td>\n",
       "      <td>0</td>\n",
       "      <td>0</td>\n",
       "      <td>1</td>\n",
       "      <td>1</td>\n",
       "    </tr>\n",
       "    <tr>\n",
       "      <td>189</td>\n",
       "      <td>39.882192</td>\n",
       "      <td>2</td>\n",
       "      <td>182</td>\n",
       "      <td>75.0</td>\n",
       "      <td>120</td>\n",
       "      <td>80</td>\n",
       "      <td>1</td>\n",
       "      <td>1</td>\n",
       "      <td>0</td>\n",
       "      <td>0</td>\n",
       "      <td>1</td>\n",
       "      <td>0</td>\n",
       "    </tr>\n",
       "    <tr>\n",
       "      <td>...</td>\n",
       "      <td>...</td>\n",
       "      <td>...</td>\n",
       "      <td>...</td>\n",
       "      <td>...</td>\n",
       "      <td>...</td>\n",
       "      <td>...</td>\n",
       "      <td>...</td>\n",
       "      <td>...</td>\n",
       "      <td>...</td>\n",
       "      <td>...</td>\n",
       "      <td>...</td>\n",
       "      <td>...</td>\n",
       "    </tr>\n",
       "    <tr>\n",
       "      <td>69695</td>\n",
       "      <td>59.506849</td>\n",
       "      <td>1</td>\n",
       "      <td>168</td>\n",
       "      <td>60.0</td>\n",
       "      <td>120</td>\n",
       "      <td>80</td>\n",
       "      <td>1</td>\n",
       "      <td>1</td>\n",
       "      <td>0</td>\n",
       "      <td>0</td>\n",
       "      <td>1</td>\n",
       "      <td>1</td>\n",
       "    </tr>\n",
       "    <tr>\n",
       "      <td>69732</td>\n",
       "      <td>41.876712</td>\n",
       "      <td>1</td>\n",
       "      <td>151</td>\n",
       "      <td>71.0</td>\n",
       "      <td>160</td>\n",
       "      <td>100</td>\n",
       "      <td>1</td>\n",
       "      <td>1</td>\n",
       "      <td>0</td>\n",
       "      <td>0</td>\n",
       "      <td>1</td>\n",
       "      <td>0</td>\n",
       "    </tr>\n",
       "    <tr>\n",
       "      <td>69872</td>\n",
       "      <td>59.747945</td>\n",
       "      <td>1</td>\n",
       "      <td>152</td>\n",
       "      <td>56.0</td>\n",
       "      <td>160</td>\n",
       "      <td>1000</td>\n",
       "      <td>1</td>\n",
       "      <td>1</td>\n",
       "      <td>0</td>\n",
       "      <td>0</td>\n",
       "      <td>1</td>\n",
       "      <td>1</td>\n",
       "    </tr>\n",
       "    <tr>\n",
       "      <td>69919</td>\n",
       "      <td>47.430137</td>\n",
       "      <td>1</td>\n",
       "      <td>159</td>\n",
       "      <td>45.0</td>\n",
       "      <td>110</td>\n",
       "      <td>70</td>\n",
       "      <td>2</td>\n",
       "      <td>2</td>\n",
       "      <td>0</td>\n",
       "      <td>0</td>\n",
       "      <td>1</td>\n",
       "      <td>0</td>\n",
       "    </tr>\n",
       "    <tr>\n",
       "      <td>69958</td>\n",
       "      <td>41.750685</td>\n",
       "      <td>2</td>\n",
       "      <td>169</td>\n",
       "      <td>67.0</td>\n",
       "      <td>160</td>\n",
       "      <td>90</td>\n",
       "      <td>1</td>\n",
       "      <td>1</td>\n",
       "      <td>0</td>\n",
       "      <td>0</td>\n",
       "      <td>1</td>\n",
       "      <td>1</td>\n",
       "    </tr>\n",
       "  </tbody>\n",
       "</table>\n",
       "<p>2002 rows × 12 columns</p>\n",
       "</div>"
      ],
      "text/plain": [
       "             age  gender  height  weight  ap_hi  ap_lo  cholesterol  gluc  \\\n",
       "103    49.665753       2     183    95.0    125     80            1     3   \n",
       "112    45.569863       1     158    78.0    110     70            1     1   \n",
       "130    60.238356       2     169    59.0    130     80            1     1   \n",
       "147    64.301370       2     166    69.0    130     90            2     1   \n",
       "189    39.882192       2     182    75.0    120     80            1     1   \n",
       "...          ...     ...     ...     ...    ...    ...          ...   ...   \n",
       "69695  59.506849       1     168    60.0    120     80            1     1   \n",
       "69732  41.876712       1     151    71.0    160    100            1     1   \n",
       "69872  59.747945       1     152    56.0    160   1000            1     1   \n",
       "69919  47.430137       1     159    45.0    110     70            2     2   \n",
       "69958  41.750685       2     169    67.0    160     90            1     1   \n",
       "\n",
       "       smoke  alco  active  cardio  \n",
       "103        1     0       1       0  \n",
       "112        0     0       1       0  \n",
       "130        0     0       0       1  \n",
       "147        0     0       1       1  \n",
       "189        0     0       1       0  \n",
       "...      ...   ...     ...     ...  \n",
       "69695      0     0       1       1  \n",
       "69732      0     0       1       0  \n",
       "69872      0     0       1       1  \n",
       "69919      0     0       1       0  \n",
       "69958      0     0       1       1  \n",
       "\n",
       "[2002 rows x 12 columns]"
      ]
     },
     "execution_count": 22,
     "metadata": {},
     "output_type": "execute_result"
    }
   ],
   "source": [
    "# dataset manipulation\n",
    "\n",
    "# id is a unique feature and not related to cardiovascular diseases. Delete \"id\" attribute\n",
    "del dataset[\"id\"]\n",
    "\n",
    "# attribute \"age\" is in days. Convert to years (1 year = 365 days)\n",
    "dataset[\"age\"] /= 365\n",
    "\n",
    "dataset = dataset.sample(frac = .0286).sort_index().copy()\n",
    "dataset"
   ]
  },
  {
   "cell_type": "code",
   "execution_count": 23,
   "metadata": {},
   "outputs": [
    {
     "data": {
      "text/html": [
       "<div>\n",
       "<style scoped>\n",
       "    .dataframe tbody tr th:only-of-type {\n",
       "        vertical-align: middle;\n",
       "    }\n",
       "\n",
       "    .dataframe tbody tr th {\n",
       "        vertical-align: top;\n",
       "    }\n",
       "\n",
       "    .dataframe thead th {\n",
       "        text-align: right;\n",
       "    }\n",
       "</style>\n",
       "<table border=\"1\" class=\"dataframe\">\n",
       "  <thead>\n",
       "    <tr style=\"text-align: right;\">\n",
       "      <th></th>\n",
       "      <th>age</th>\n",
       "      <th>gender</th>\n",
       "      <th>height</th>\n",
       "      <th>weight</th>\n",
       "      <th>ap_hi</th>\n",
       "      <th>ap_lo</th>\n",
       "      <th>cholesterol</th>\n",
       "      <th>gluc</th>\n",
       "      <th>smoke</th>\n",
       "      <th>alco</th>\n",
       "      <th>active</th>\n",
       "      <th>cardio</th>\n",
       "    </tr>\n",
       "  </thead>\n",
       "  <tbody>\n",
       "    <tr>\n",
       "      <td>count</td>\n",
       "      <td>2002.000000</td>\n",
       "      <td>2002.000000</td>\n",
       "      <td>2002.000000</td>\n",
       "      <td>2002.000000</td>\n",
       "      <td>2002.000000</td>\n",
       "      <td>2002.000000</td>\n",
       "      <td>2002.000000</td>\n",
       "      <td>2002.000000</td>\n",
       "      <td>2002.000000</td>\n",
       "      <td>2002.000000</td>\n",
       "      <td>2002.000000</td>\n",
       "      <td>2002.000000</td>\n",
       "    </tr>\n",
       "    <tr>\n",
       "      <td>mean</td>\n",
       "      <td>53.341991</td>\n",
       "      <td>1.355644</td>\n",
       "      <td>164.640360</td>\n",
       "      <td>74.820480</td>\n",
       "      <td>126.584416</td>\n",
       "      <td>92.123876</td>\n",
       "      <td>1.363636</td>\n",
       "      <td>1.217782</td>\n",
       "      <td>0.084416</td>\n",
       "      <td>0.059441</td>\n",
       "      <td>0.810190</td>\n",
       "      <td>0.500999</td>\n",
       "    </tr>\n",
       "    <tr>\n",
       "      <td>std</td>\n",
       "      <td>6.740231</td>\n",
       "      <td>0.478828</td>\n",
       "      <td>8.651076</td>\n",
       "      <td>14.685139</td>\n",
       "      <td>17.976527</td>\n",
       "      <td>100.489301</td>\n",
       "      <td>0.677795</td>\n",
       "      <td>0.563351</td>\n",
       "      <td>0.278080</td>\n",
       "      <td>0.236506</td>\n",
       "      <td>0.392249</td>\n",
       "      <td>0.500124</td>\n",
       "    </tr>\n",
       "    <tr>\n",
       "      <td>min</td>\n",
       "      <td>39.265753</td>\n",
       "      <td>1.000000</td>\n",
       "      <td>59.000000</td>\n",
       "      <td>40.000000</td>\n",
       "      <td>12.000000</td>\n",
       "      <td>0.000000</td>\n",
       "      <td>1.000000</td>\n",
       "      <td>1.000000</td>\n",
       "      <td>0.000000</td>\n",
       "      <td>0.000000</td>\n",
       "      <td>0.000000</td>\n",
       "      <td>0.000000</td>\n",
       "    </tr>\n",
       "    <tr>\n",
       "      <td>25%</td>\n",
       "      <td>48.480822</td>\n",
       "      <td>1.000000</td>\n",
       "      <td>159.000000</td>\n",
       "      <td>65.000000</td>\n",
       "      <td>120.000000</td>\n",
       "      <td>80.000000</td>\n",
       "      <td>1.000000</td>\n",
       "      <td>1.000000</td>\n",
       "      <td>0.000000</td>\n",
       "      <td>0.000000</td>\n",
       "      <td>1.000000</td>\n",
       "      <td>0.000000</td>\n",
       "    </tr>\n",
       "    <tr>\n",
       "      <td>50%</td>\n",
       "      <td>53.910959</td>\n",
       "      <td>1.000000</td>\n",
       "      <td>165.000000</td>\n",
       "      <td>73.000000</td>\n",
       "      <td>120.000000</td>\n",
       "      <td>80.000000</td>\n",
       "      <td>1.000000</td>\n",
       "      <td>1.000000</td>\n",
       "      <td>0.000000</td>\n",
       "      <td>0.000000</td>\n",
       "      <td>1.000000</td>\n",
       "      <td>1.000000</td>\n",
       "    </tr>\n",
       "    <tr>\n",
       "      <td>75%</td>\n",
       "      <td>58.450685</td>\n",
       "      <td>2.000000</td>\n",
       "      <td>170.000000</td>\n",
       "      <td>83.000000</td>\n",
       "      <td>140.000000</td>\n",
       "      <td>90.000000</td>\n",
       "      <td>1.000000</td>\n",
       "      <td>1.000000</td>\n",
       "      <td>0.000000</td>\n",
       "      <td>0.000000</td>\n",
       "      <td>1.000000</td>\n",
       "      <td>1.000000</td>\n",
       "    </tr>\n",
       "    <tr>\n",
       "      <td>max</td>\n",
       "      <td>64.934247</td>\n",
       "      <td>2.000000</td>\n",
       "      <td>198.000000</td>\n",
       "      <td>170.000000</td>\n",
       "      <td>210.000000</td>\n",
       "      <td>1125.000000</td>\n",
       "      <td>3.000000</td>\n",
       "      <td>3.000000</td>\n",
       "      <td>1.000000</td>\n",
       "      <td>1.000000</td>\n",
       "      <td>1.000000</td>\n",
       "      <td>1.000000</td>\n",
       "    </tr>\n",
       "  </tbody>\n",
       "</table>\n",
       "</div>"
      ],
      "text/plain": [
       "               age       gender       height       weight        ap_hi  \\\n",
       "count  2002.000000  2002.000000  2002.000000  2002.000000  2002.000000   \n",
       "mean     53.341991     1.355644   164.640360    74.820480   126.584416   \n",
       "std       6.740231     0.478828     8.651076    14.685139    17.976527   \n",
       "min      39.265753     1.000000    59.000000    40.000000    12.000000   \n",
       "25%      48.480822     1.000000   159.000000    65.000000   120.000000   \n",
       "50%      53.910959     1.000000   165.000000    73.000000   120.000000   \n",
       "75%      58.450685     2.000000   170.000000    83.000000   140.000000   \n",
       "max      64.934247     2.000000   198.000000   170.000000   210.000000   \n",
       "\n",
       "             ap_lo  cholesterol         gluc        smoke         alco  \\\n",
       "count  2002.000000  2002.000000  2002.000000  2002.000000  2002.000000   \n",
       "mean     92.123876     1.363636     1.217782     0.084416     0.059441   \n",
       "std     100.489301     0.677795     0.563351     0.278080     0.236506   \n",
       "min       0.000000     1.000000     1.000000     0.000000     0.000000   \n",
       "25%      80.000000     1.000000     1.000000     0.000000     0.000000   \n",
       "50%      80.000000     1.000000     1.000000     0.000000     0.000000   \n",
       "75%      90.000000     1.000000     1.000000     0.000000     0.000000   \n",
       "max    1125.000000     3.000000     3.000000     1.000000     1.000000   \n",
       "\n",
       "            active       cardio  \n",
       "count  2002.000000  2002.000000  \n",
       "mean      0.810190     0.500999  \n",
       "std       0.392249     0.500124  \n",
       "min       0.000000     0.000000  \n",
       "25%       1.000000     0.000000  \n",
       "50%       1.000000     1.000000  \n",
       "75%       1.000000     1.000000  \n",
       "max       1.000000     1.000000  "
      ]
     },
     "execution_count": 23,
     "metadata": {},
     "output_type": "execute_result"
    }
   ],
   "source": [
    "# dataset summary\n",
    "dataset.describe()"
   ]
  },
  {
   "cell_type": "code",
   "execution_count": 24,
   "metadata": {},
   "outputs": [
    {
     "data": {
      "text/html": [
       "<div>\n",
       "<style scoped>\n",
       "    .dataframe tbody tr th:only-of-type {\n",
       "        vertical-align: middle;\n",
       "    }\n",
       "\n",
       "    .dataframe tbody tr th {\n",
       "        vertical-align: top;\n",
       "    }\n",
       "\n",
       "    .dataframe thead th {\n",
       "        text-align: right;\n",
       "    }\n",
       "</style>\n",
       "<table border=\"1\" class=\"dataframe\">\n",
       "  <thead>\n",
       "    <tr style=\"text-align: right;\">\n",
       "      <th></th>\n",
       "      <th>age</th>\n",
       "      <th>gender</th>\n",
       "      <th>height</th>\n",
       "      <th>weight</th>\n",
       "      <th>ap_hi</th>\n",
       "      <th>ap_lo</th>\n",
       "      <th>cholesterol</th>\n",
       "      <th>gluc</th>\n",
       "      <th>smoke</th>\n",
       "      <th>alco</th>\n",
       "      <th>active</th>\n",
       "      <th>cardio</th>\n",
       "    </tr>\n",
       "  </thead>\n",
       "  <tbody>\n",
       "    <tr>\n",
       "      <td>count</td>\n",
       "      <td>2002.000000</td>\n",
       "      <td>2002.000000</td>\n",
       "      <td>2002.000000</td>\n",
       "      <td>2002.000000</td>\n",
       "      <td>2002.000000</td>\n",
       "      <td>2002.000000</td>\n",
       "      <td>2002.000000</td>\n",
       "      <td>2002.000000</td>\n",
       "      <td>2002.000000</td>\n",
       "      <td>2002.000000</td>\n",
       "      <td>2002.000000</td>\n",
       "      <td>2002.000000</td>\n",
       "    </tr>\n",
       "    <tr>\n",
       "      <td>mean</td>\n",
       "      <td>53.341991</td>\n",
       "      <td>1.355644</td>\n",
       "      <td>164.640360</td>\n",
       "      <td>74.820480</td>\n",
       "      <td>126.584416</td>\n",
       "      <td>92.123876</td>\n",
       "      <td>1.363636</td>\n",
       "      <td>1.217782</td>\n",
       "      <td>0.084416</td>\n",
       "      <td>0.059441</td>\n",
       "      <td>0.810190</td>\n",
       "      <td>0.500999</td>\n",
       "    </tr>\n",
       "    <tr>\n",
       "      <td>std</td>\n",
       "      <td>6.740231</td>\n",
       "      <td>0.478828</td>\n",
       "      <td>8.651076</td>\n",
       "      <td>14.685139</td>\n",
       "      <td>17.976527</td>\n",
       "      <td>100.489301</td>\n",
       "      <td>0.677795</td>\n",
       "      <td>0.563351</td>\n",
       "      <td>0.278080</td>\n",
       "      <td>0.236506</td>\n",
       "      <td>0.392249</td>\n",
       "      <td>0.500124</td>\n",
       "    </tr>\n",
       "    <tr>\n",
       "      <td>min</td>\n",
       "      <td>39.265753</td>\n",
       "      <td>1.000000</td>\n",
       "      <td>59.000000</td>\n",
       "      <td>40.000000</td>\n",
       "      <td>12.000000</td>\n",
       "      <td>0.000000</td>\n",
       "      <td>1.000000</td>\n",
       "      <td>1.000000</td>\n",
       "      <td>0.000000</td>\n",
       "      <td>0.000000</td>\n",
       "      <td>0.000000</td>\n",
       "      <td>0.000000</td>\n",
       "    </tr>\n",
       "    <tr>\n",
       "      <td>25%</td>\n",
       "      <td>48.480822</td>\n",
       "      <td>1.000000</td>\n",
       "      <td>159.000000</td>\n",
       "      <td>65.000000</td>\n",
       "      <td>120.000000</td>\n",
       "      <td>80.000000</td>\n",
       "      <td>1.000000</td>\n",
       "      <td>1.000000</td>\n",
       "      <td>0.000000</td>\n",
       "      <td>0.000000</td>\n",
       "      <td>1.000000</td>\n",
       "      <td>0.000000</td>\n",
       "    </tr>\n",
       "    <tr>\n",
       "      <td>50%</td>\n",
       "      <td>53.910959</td>\n",
       "      <td>1.000000</td>\n",
       "      <td>165.000000</td>\n",
       "      <td>73.000000</td>\n",
       "      <td>120.000000</td>\n",
       "      <td>80.000000</td>\n",
       "      <td>1.000000</td>\n",
       "      <td>1.000000</td>\n",
       "      <td>0.000000</td>\n",
       "      <td>0.000000</td>\n",
       "      <td>1.000000</td>\n",
       "      <td>1.000000</td>\n",
       "    </tr>\n",
       "    <tr>\n",
       "      <td>75%</td>\n",
       "      <td>58.450685</td>\n",
       "      <td>2.000000</td>\n",
       "      <td>170.000000</td>\n",
       "      <td>83.000000</td>\n",
       "      <td>140.000000</td>\n",
       "      <td>90.000000</td>\n",
       "      <td>1.000000</td>\n",
       "      <td>1.000000</td>\n",
       "      <td>0.000000</td>\n",
       "      <td>0.000000</td>\n",
       "      <td>1.000000</td>\n",
       "      <td>1.000000</td>\n",
       "    </tr>\n",
       "    <tr>\n",
       "      <td>max</td>\n",
       "      <td>64.934247</td>\n",
       "      <td>2.000000</td>\n",
       "      <td>198.000000</td>\n",
       "      <td>170.000000</td>\n",
       "      <td>210.000000</td>\n",
       "      <td>1125.000000</td>\n",
       "      <td>3.000000</td>\n",
       "      <td>3.000000</td>\n",
       "      <td>1.000000</td>\n",
       "      <td>1.000000</td>\n",
       "      <td>1.000000</td>\n",
       "      <td>1.000000</td>\n",
       "    </tr>\n",
       "  </tbody>\n",
       "</table>\n",
       "</div>"
      ],
      "text/plain": [
       "               age       gender       height       weight        ap_hi  \\\n",
       "count  2002.000000  2002.000000  2002.000000  2002.000000  2002.000000   \n",
       "mean     53.341991     1.355644   164.640360    74.820480   126.584416   \n",
       "std       6.740231     0.478828     8.651076    14.685139    17.976527   \n",
       "min      39.265753     1.000000    59.000000    40.000000    12.000000   \n",
       "25%      48.480822     1.000000   159.000000    65.000000   120.000000   \n",
       "50%      53.910959     1.000000   165.000000    73.000000   120.000000   \n",
       "75%      58.450685     2.000000   170.000000    83.000000   140.000000   \n",
       "max      64.934247     2.000000   198.000000   170.000000   210.000000   \n",
       "\n",
       "             ap_lo  cholesterol         gluc        smoke         alco  \\\n",
       "count  2002.000000  2002.000000  2002.000000  2002.000000  2002.000000   \n",
       "mean     92.123876     1.363636     1.217782     0.084416     0.059441   \n",
       "std     100.489301     0.677795     0.563351     0.278080     0.236506   \n",
       "min       0.000000     1.000000     1.000000     0.000000     0.000000   \n",
       "25%      80.000000     1.000000     1.000000     0.000000     0.000000   \n",
       "50%      80.000000     1.000000     1.000000     0.000000     0.000000   \n",
       "75%      90.000000     1.000000     1.000000     0.000000     0.000000   \n",
       "max    1125.000000     3.000000     3.000000     1.000000     1.000000   \n",
       "\n",
       "            active       cardio  \n",
       "count  2002.000000  2002.000000  \n",
       "mean      0.810190     0.500999  \n",
       "std       0.392249     0.500124  \n",
       "min       0.000000     0.000000  \n",
       "25%       1.000000     0.000000  \n",
       "50%       1.000000     1.000000  \n",
       "75%       1.000000     1.000000  \n",
       "max       1.000000     1.000000  "
      ]
     },
     "execution_count": 24,
     "metadata": {},
     "output_type": "execute_result"
    }
   ],
   "source": [
    "# dataset summary\n",
    "dataset.describe()"
   ]
  },
  {
   "cell_type": "code",
   "execution_count": 25,
   "metadata": {},
   "outputs": [
    {
     "data": {
      "text/plain": [
       "(['age',\n",
       "  'gender',\n",
       "  'height',\n",
       "  'weight',\n",
       "  'ap_hi',\n",
       "  'ap_lo',\n",
       "  'cholesterol',\n",
       "  'gluc',\n",
       "  'smoke',\n",
       "  'alco',\n",
       "  'active'],\n",
       " ['cardio'])"
      ]
     },
     "execution_count": 25,
     "metadata": {},
     "output_type": "execute_result"
    }
   ],
   "source": [
    "# extraction of input and output from dataset for easy calculation\n",
    "# \"Outcome\" = output column\n",
    "# all other columns are input columns\n",
    "\n",
    "dataset_columns = dataset.columns.values.tolist()\n",
    "dataset_columns_number = len(dataset_columns)\n",
    "input_columns  = dataset_columns[: dataset_columns_number - 1] \n",
    "output_columns = dataset_columns[  dataset_columns_number - 1 :]\n",
    "\n",
    "input_columns, output_columns"
   ]
  },
  {
   "cell_type": "code",
   "execution_count": 26,
   "metadata": {},
   "outputs": [
    {
     "data": {
      "text/html": [
       "<div>\n",
       "<style scoped>\n",
       "    .dataframe tbody tr th:only-of-type {\n",
       "        vertical-align: middle;\n",
       "    }\n",
       "\n",
       "    .dataframe tbody tr th {\n",
       "        vertical-align: top;\n",
       "    }\n",
       "\n",
       "    .dataframe thead th {\n",
       "        text-align: right;\n",
       "    }\n",
       "</style>\n",
       "<table border=\"1\" class=\"dataframe\">\n",
       "  <thead>\n",
       "    <tr style=\"text-align: right;\">\n",
       "      <th></th>\n",
       "      <th>age</th>\n",
       "      <th>gender</th>\n",
       "      <th>height</th>\n",
       "      <th>weight</th>\n",
       "      <th>ap_hi</th>\n",
       "      <th>ap_lo</th>\n",
       "      <th>cholesterol</th>\n",
       "      <th>gluc</th>\n",
       "      <th>smoke</th>\n",
       "      <th>alco</th>\n",
       "      <th>active</th>\n",
       "    </tr>\n",
       "  </thead>\n",
       "  <tbody>\n",
       "    <tr>\n",
       "      <td>103</td>\n",
       "      <td>49.665753</td>\n",
       "      <td>2</td>\n",
       "      <td>183</td>\n",
       "      <td>95.0</td>\n",
       "      <td>125</td>\n",
       "      <td>80</td>\n",
       "      <td>1</td>\n",
       "      <td>3</td>\n",
       "      <td>1</td>\n",
       "      <td>0</td>\n",
       "      <td>1</td>\n",
       "    </tr>\n",
       "    <tr>\n",
       "      <td>112</td>\n",
       "      <td>45.569863</td>\n",
       "      <td>1</td>\n",
       "      <td>158</td>\n",
       "      <td>78.0</td>\n",
       "      <td>110</td>\n",
       "      <td>70</td>\n",
       "      <td>1</td>\n",
       "      <td>1</td>\n",
       "      <td>0</td>\n",
       "      <td>0</td>\n",
       "      <td>1</td>\n",
       "    </tr>\n",
       "    <tr>\n",
       "      <td>130</td>\n",
       "      <td>60.238356</td>\n",
       "      <td>2</td>\n",
       "      <td>169</td>\n",
       "      <td>59.0</td>\n",
       "      <td>130</td>\n",
       "      <td>80</td>\n",
       "      <td>1</td>\n",
       "      <td>1</td>\n",
       "      <td>0</td>\n",
       "      <td>0</td>\n",
       "      <td>0</td>\n",
       "    </tr>\n",
       "    <tr>\n",
       "      <td>147</td>\n",
       "      <td>64.301370</td>\n",
       "      <td>2</td>\n",
       "      <td>166</td>\n",
       "      <td>69.0</td>\n",
       "      <td>130</td>\n",
       "      <td>90</td>\n",
       "      <td>2</td>\n",
       "      <td>1</td>\n",
       "      <td>0</td>\n",
       "      <td>0</td>\n",
       "      <td>1</td>\n",
       "    </tr>\n",
       "    <tr>\n",
       "      <td>189</td>\n",
       "      <td>39.882192</td>\n",
       "      <td>2</td>\n",
       "      <td>182</td>\n",
       "      <td>75.0</td>\n",
       "      <td>120</td>\n",
       "      <td>80</td>\n",
       "      <td>1</td>\n",
       "      <td>1</td>\n",
       "      <td>0</td>\n",
       "      <td>0</td>\n",
       "      <td>1</td>\n",
       "    </tr>\n",
       "    <tr>\n",
       "      <td>...</td>\n",
       "      <td>...</td>\n",
       "      <td>...</td>\n",
       "      <td>...</td>\n",
       "      <td>...</td>\n",
       "      <td>...</td>\n",
       "      <td>...</td>\n",
       "      <td>...</td>\n",
       "      <td>...</td>\n",
       "      <td>...</td>\n",
       "      <td>...</td>\n",
       "      <td>...</td>\n",
       "    </tr>\n",
       "    <tr>\n",
       "      <td>69695</td>\n",
       "      <td>59.506849</td>\n",
       "      <td>1</td>\n",
       "      <td>168</td>\n",
       "      <td>60.0</td>\n",
       "      <td>120</td>\n",
       "      <td>80</td>\n",
       "      <td>1</td>\n",
       "      <td>1</td>\n",
       "      <td>0</td>\n",
       "      <td>0</td>\n",
       "      <td>1</td>\n",
       "    </tr>\n",
       "    <tr>\n",
       "      <td>69732</td>\n",
       "      <td>41.876712</td>\n",
       "      <td>1</td>\n",
       "      <td>151</td>\n",
       "      <td>71.0</td>\n",
       "      <td>160</td>\n",
       "      <td>100</td>\n",
       "      <td>1</td>\n",
       "      <td>1</td>\n",
       "      <td>0</td>\n",
       "      <td>0</td>\n",
       "      <td>1</td>\n",
       "    </tr>\n",
       "    <tr>\n",
       "      <td>69872</td>\n",
       "      <td>59.747945</td>\n",
       "      <td>1</td>\n",
       "      <td>152</td>\n",
       "      <td>56.0</td>\n",
       "      <td>160</td>\n",
       "      <td>1000</td>\n",
       "      <td>1</td>\n",
       "      <td>1</td>\n",
       "      <td>0</td>\n",
       "      <td>0</td>\n",
       "      <td>1</td>\n",
       "    </tr>\n",
       "    <tr>\n",
       "      <td>69919</td>\n",
       "      <td>47.430137</td>\n",
       "      <td>1</td>\n",
       "      <td>159</td>\n",
       "      <td>45.0</td>\n",
       "      <td>110</td>\n",
       "      <td>70</td>\n",
       "      <td>2</td>\n",
       "      <td>2</td>\n",
       "      <td>0</td>\n",
       "      <td>0</td>\n",
       "      <td>1</td>\n",
       "    </tr>\n",
       "    <tr>\n",
       "      <td>69958</td>\n",
       "      <td>41.750685</td>\n",
       "      <td>2</td>\n",
       "      <td>169</td>\n",
       "      <td>67.0</td>\n",
       "      <td>160</td>\n",
       "      <td>90</td>\n",
       "      <td>1</td>\n",
       "      <td>1</td>\n",
       "      <td>0</td>\n",
       "      <td>0</td>\n",
       "      <td>1</td>\n",
       "    </tr>\n",
       "  </tbody>\n",
       "</table>\n",
       "<p>2002 rows × 11 columns</p>\n",
       "</div>"
      ],
      "text/plain": [
       "             age  gender  height  weight  ap_hi  ap_lo  cholesterol  gluc  \\\n",
       "103    49.665753       2     183    95.0    125     80            1     3   \n",
       "112    45.569863       1     158    78.0    110     70            1     1   \n",
       "130    60.238356       2     169    59.0    130     80            1     1   \n",
       "147    64.301370       2     166    69.0    130     90            2     1   \n",
       "189    39.882192       2     182    75.0    120     80            1     1   \n",
       "...          ...     ...     ...     ...    ...    ...          ...   ...   \n",
       "69695  59.506849       1     168    60.0    120     80            1     1   \n",
       "69732  41.876712       1     151    71.0    160    100            1     1   \n",
       "69872  59.747945       1     152    56.0    160   1000            1     1   \n",
       "69919  47.430137       1     159    45.0    110     70            2     2   \n",
       "69958  41.750685       2     169    67.0    160     90            1     1   \n",
       "\n",
       "       smoke  alco  active  \n",
       "103        1     0       1  \n",
       "112        0     0       1  \n",
       "130        0     0       0  \n",
       "147        0     0       1  \n",
       "189        0     0       1  \n",
       "...      ...   ...     ...  \n",
       "69695      0     0       1  \n",
       "69732      0     0       1  \n",
       "69872      0     0       1  \n",
       "69919      0     0       1  \n",
       "69958      0     0       1  \n",
       "\n",
       "[2002 rows x 11 columns]"
      ]
     },
     "execution_count": 26,
     "metadata": {},
     "output_type": "execute_result"
    }
   ],
   "source": [
    "# build input matrix\n",
    "real_input  = dataset[input_columns].copy()\n",
    "real_input"
   ]
  },
  {
   "cell_type": "code",
   "execution_count": 27,
   "metadata": {},
   "outputs": [
    {
     "data": {
      "text/html": [
       "<div>\n",
       "<style scoped>\n",
       "    .dataframe tbody tr th:only-of-type {\n",
       "        vertical-align: middle;\n",
       "    }\n",
       "\n",
       "    .dataframe tbody tr th {\n",
       "        vertical-align: top;\n",
       "    }\n",
       "\n",
       "    .dataframe thead th {\n",
       "        text-align: right;\n",
       "    }\n",
       "</style>\n",
       "<table border=\"1\" class=\"dataframe\">\n",
       "  <thead>\n",
       "    <tr style=\"text-align: right;\">\n",
       "      <th></th>\n",
       "      <th>cardio</th>\n",
       "    </tr>\n",
       "  </thead>\n",
       "  <tbody>\n",
       "    <tr>\n",
       "      <td>103</td>\n",
       "      <td>0</td>\n",
       "    </tr>\n",
       "    <tr>\n",
       "      <td>112</td>\n",
       "      <td>0</td>\n",
       "    </tr>\n",
       "    <tr>\n",
       "      <td>130</td>\n",
       "      <td>1</td>\n",
       "    </tr>\n",
       "    <tr>\n",
       "      <td>147</td>\n",
       "      <td>1</td>\n",
       "    </tr>\n",
       "    <tr>\n",
       "      <td>189</td>\n",
       "      <td>0</td>\n",
       "    </tr>\n",
       "    <tr>\n",
       "      <td>...</td>\n",
       "      <td>...</td>\n",
       "    </tr>\n",
       "    <tr>\n",
       "      <td>69695</td>\n",
       "      <td>1</td>\n",
       "    </tr>\n",
       "    <tr>\n",
       "      <td>69732</td>\n",
       "      <td>0</td>\n",
       "    </tr>\n",
       "    <tr>\n",
       "      <td>69872</td>\n",
       "      <td>1</td>\n",
       "    </tr>\n",
       "    <tr>\n",
       "      <td>69919</td>\n",
       "      <td>0</td>\n",
       "    </tr>\n",
       "    <tr>\n",
       "      <td>69958</td>\n",
       "      <td>1</td>\n",
       "    </tr>\n",
       "  </tbody>\n",
       "</table>\n",
       "<p>2002 rows × 1 columns</p>\n",
       "</div>"
      ],
      "text/plain": [
       "       cardio\n",
       "103         0\n",
       "112         0\n",
       "130         1\n",
       "147         1\n",
       "189         0\n",
       "...       ...\n",
       "69695       1\n",
       "69732       0\n",
       "69872       1\n",
       "69919       0\n",
       "69958       1\n",
       "\n",
       "[2002 rows x 1 columns]"
      ]
     },
     "execution_count": 27,
     "metadata": {},
     "output_type": "execute_result"
    }
   ],
   "source": [
    "# build output matrix\n",
    "real_output = dataset[output_columns].copy() \n",
    "real_output"
   ]
  },
  {
   "cell_type": "code",
   "execution_count": 28,
   "metadata": {},
   "outputs": [],
   "source": [
    "# outlier detection, data normalization for next several sessions. "
   ]
  },
  {
   "cell_type": "code",
   "execution_count": 29,
   "metadata": {},
   "outputs": [
    {
     "data": {
      "text/plain": [
       "array([[<matplotlib.axes._subplots.AxesSubplot object at 0x07CCECD0>,\n",
       "        <matplotlib.axes._subplots.AxesSubplot object at 0x093C1610>],\n",
       "       [<matplotlib.axes._subplots.AxesSubplot object at 0x093D9610>,\n",
       "        <matplotlib.axes._subplots.AxesSubplot object at 0x093F26F0>],\n",
       "       [<matplotlib.axes._subplots.AxesSubplot object at 0x094127B0>,\n",
       "        <matplotlib.axes._subplots.AxesSubplot object at 0x09432890>],\n",
       "       [<matplotlib.axes._subplots.AxesSubplot object at 0x09BA39F0>,\n",
       "        <matplotlib.axes._subplots.AxesSubplot object at 0x09BC34B0>],\n",
       "       [<matplotlib.axes._subplots.AxesSubplot object at 0x09BC3A50>,\n",
       "        <matplotlib.axes._subplots.AxesSubplot object at 0x09BE3BF0>],\n",
       "       [<matplotlib.axes._subplots.AxesSubplot object at 0x09C22CF0>,\n",
       "        <matplotlib.axes._subplots.AxesSubplot object at 0x09C43DD0>]],\n",
       "      dtype=object)"
      ]
     },
     "execution_count": 29,
     "metadata": {},
     "output_type": "execute_result"
    },
    {
     "data": {
      "image/png": "[encoded data removed]",
      "text/plain": [
       "<Figure size 1080x1800 with 12 Axes>"
      ]
     },
     "metadata": {
      "needs_background": "light"
     },
     "output_type": "display_data"
    }
   ],
   "source": [
    "# histogram (data vs frequency)\n",
    "real_input.hist(figsize  = (15, 25), layout = ((real_input.columns.size+1)//2, 2), bins = 20)"
   ]
  },
  {
   "cell_type": "code",
   "execution_count": 30,
   "metadata": {},
   "outputs": [
    {
     "data": {
      "text/plain": [
       "<matplotlib.axes._subplots.AxesSubplot at 0xb7dd9d0>"
      ]
     },
     "execution_count": 30,
     "metadata": {},
     "output_type": "execute_result"
    },
    {
     "data": {
      "image/png": "[encoded data removed]",
      "text/plain": [
       "<Figure size 1440x360 with 1 Axes>"
      ]
     },
     "metadata": {
      "needs_background": "light"
     },
     "output_type": "display_data"
    }
   ],
   "source": [
    "# boxplot.\n",
    "# boxplot will tell us about outlier data and many more but to know about outlier data \n",
    "# boxplot is great.\n",
    "# to know more about boxplot please visit the link below - \n",
    "# https://towardsdatascience.com/understanding-boxplots-5e2df7bcbd51\n",
    "real_input.boxplot(figsize = (20, 5))"
   ]
  },
  {
   "cell_type": "code",
   "execution_count": 31,
   "metadata": {},
   "outputs": [
    {
     "data": {
      "text/plain": [
       "['age',\n",
       " 'gender',\n",
       " 'height',\n",
       " 'weight',\n",
       " 'ap_hi',\n",
       " 'ap_lo',\n",
       " 'cholesterol',\n",
       " 'gluc',\n",
       " 'smoke',\n",
       " 'alco',\n",
       " 'active']"
      ]
     },
     "execution_count": 31,
     "metadata": {},
     "output_type": "execute_result"
    }
   ],
   "source": [
    "features = real_input.columns.values.tolist()\n",
    "features"
   ]
  },
  {
   "cell_type": "code",
   "execution_count": 32,
   "metadata": {},
   "outputs": [],
   "source": [
    "# outlier detection"
   ]
  },
  {
   "cell_type": "code",
   "execution_count": 33,
   "metadata": {},
   "outputs": [
    {
     "data": {
      "text/plain": [
       "<matplotlib.axes._subplots.AxesSubplot at 0xb8a8bf0>"
      ]
     },
     "execution_count": 33,
     "metadata": {},
     "output_type": "execute_result"
    },
    {
     "data": {
      "image/png": "[encoded data removed]",
      "text/plain": [
       "<Figure size 720x360 with 1 Axes>"
      ]
     },
     "metadata": {
      "needs_background": "light"
     },
     "output_type": "display_data"
    }
   ],
   "source": [
    "j = 0 \n",
    "feature = features[j]\n",
    "real_input[feature].hist(figsize = (10, 5), bins = 20)"
   ]
  },
  {
   "cell_type": "code",
   "execution_count": 34,
   "metadata": {},
   "outputs": [
    {
     "data": {
      "text/plain": [
       "<matplotlib.axes._subplots.AxesSubplot at 0xba18c10>"
      ]
     },
     "execution_count": 34,
     "metadata": {},
     "output_type": "execute_result"
    },
    {
     "data": {
      "image/png": "[encoded data removed]",
      "text/plain": [
       "<Figure size 720x360 with 1 Axes>"
      ]
     },
     "metadata": {
      "needs_background": "light"
     },
     "output_type": "display_data"
    }
   ],
   "source": [
    "real_input.boxplot(column = feature, figsize = (10, 5))"
   ]
  },
  {
   "cell_type": "code",
   "execution_count": 35,
   "metadata": {},
   "outputs": [],
   "source": [
    "'''\n",
    "For feature \"age\",\n",
    "outliers found in both histogram and boxplot\n",
    "Set \"age\" < 38 = 38\n",
    "'''\n",
    "\n",
    "real_input[feature] = real_input[feature].mask(real_input[feature] < 38., other = 38.)"
   ]
  },
  {
   "cell_type": "code",
   "execution_count": 36,
   "metadata": {},
   "outputs": [
    {
     "name": "stdout",
     "output_type": "stream",
     "text": [
      "feature age details =\n"
     ]
    },
    {
     "data": {
      "text/plain": [
       "count    2002.000000\n",
       "mean       53.341991\n",
       "std         6.740231\n",
       "min        39.265753\n",
       "25%        48.480822\n",
       "50%        53.910959\n",
       "75%        58.450685\n",
       "max        64.934247\n",
       "Name: age, dtype: float64"
      ]
     },
     "execution_count": 36,
     "metadata": {},
     "output_type": "execute_result"
    }
   ],
   "source": [
    "print(\"feature\", feature, \"details =\")\n",
    "real_input[feature].describe()"
   ]
  },
  {
   "cell_type": "code",
   "execution_count": 37,
   "metadata": {},
   "outputs": [
    {
     "data": {
      "text/plain": [
       "<matplotlib.axes._subplots.AxesSubplot at 0xba570f0>"
      ]
     },
     "execution_count": 37,
     "metadata": {},
     "output_type": "execute_result"
    },
    {
     "data": {
      "image/png": "[encoded data removed]",
      "text/plain": [
       "<Figure size 720x360 with 1 Axes>"
      ]
     },
     "metadata": {
      "needs_background": "light"
     },
     "output_type": "display_data"
    }
   ],
   "source": [
    "'''\n",
    "Feature \"age\" is now well distributed\n",
    "'''\n",
    "real_input[feature].hist(figsize = (10, 5), bins = 10)"
   ]
  },
  {
   "cell_type": "code",
   "execution_count": 38,
   "metadata": {},
   "outputs": [
    {
     "data": {
      "text/plain": [
       "<matplotlib.axes._subplots.AxesSubplot at 0xba9f930>"
      ]
     },
     "execution_count": 38,
     "metadata": {},
     "output_type": "execute_result"
    },
    {
     "data": {
      "image/png": "[encoded data removed]",
      "text/plain": [
       "<Figure size 720x360 with 1 Axes>"
      ]
     },
     "metadata": {
      "needs_background": "light"
     },
     "output_type": "display_data"
    }
   ],
   "source": [
    "real_input.boxplot(column = feature, figsize = (10, 5))"
   ]
  },
  {
   "cell_type": "code",
   "execution_count": 39,
   "metadata": {},
   "outputs": [
    {
     "data": {
      "text/plain": [
       "<matplotlib.axes._subplots.AxesSubplot at 0xc3e8730>"
      ]
     },
     "execution_count": 39,
     "metadata": {},
     "output_type": "execute_result"
    },
    {
     "data": {
      "image/png": "[encoded data removed]",
      "text/plain": [
       "<Figure size 720x360 with 1 Axes>"
      ]
     },
     "metadata": {
      "needs_background": "light"
     },
     "output_type": "display_data"
    }
   ],
   "source": [
    "j += 1\n",
    "feature = features[j]\n",
    "real_input[feature].hist(figsize = (10, 5), bins = 20)"
   ]
  },
  {
   "cell_type": "code",
   "execution_count": 40,
   "metadata": {},
   "outputs": [
    {
     "data": {
      "text/plain": [
       "<matplotlib.axes._subplots.AxesSubplot at 0xb91f990>"
      ]
     },
     "execution_count": 40,
     "metadata": {},
     "output_type": "execute_result"
    },
    {
     "data": {
      "image/png": "[encoded data removed]",
      "text/plain": [
       "<Figure size 720x360 with 1 Axes>"
      ]
     },
     "metadata": {
      "needs_background": "light"
     },
     "output_type": "display_data"
    }
   ],
   "source": [
    "real_input.boxplot(column = feature, figsize = (10, 5))"
   ]
  },
  {
   "cell_type": "code",
   "execution_count": 41,
   "metadata": {},
   "outputs": [
    {
     "data": {
      "text/plain": [
       "'\\nfeature \"gender\" is well distributed. so leave it as it is.\\n'"
      ]
     },
     "execution_count": 41,
     "metadata": {},
     "output_type": "execute_result"
    }
   ],
   "source": [
    "'''\n",
    "feature \"gender\" is well distributed. so leave it as it is.\n",
    "'''"
   ]
  },
  {
   "cell_type": "code",
   "execution_count": 42,
   "metadata": {},
   "outputs": [
    {
     "data": {
      "text/plain": [
       "<matplotlib.axes._subplots.AxesSubplot at 0xc507f50>"
      ]
     },
     "execution_count": 42,
     "metadata": {},
     "output_type": "execute_result"
    },
    {
     "data": {
      "image/png": "[encoded data removed]",
      "text/plain": [
       "<Figure size 720x360 with 1 Axes>"
      ]
     },
     "metadata": {
      "needs_background": "light"
     },
     "output_type": "display_data"
    }
   ],
   "source": [
    "j += 1\n",
    "feature = features[j]\n",
    "real_input[feature].hist(figsize = (10, 5), bins = 20)"
   ]
  },
  {
   "cell_type": "code",
   "execution_count": 43,
   "metadata": {},
   "outputs": [
    {
     "data": {
      "text/plain": [
       "<matplotlib.axes._subplots.AxesSubplot at 0x7d41670>"
      ]
     },
     "execution_count": 43,
     "metadata": {},
     "output_type": "execute_result"
    },
    {
     "data": {
      "image/png": "[encoded data removed]",
      "text/plain": [
       "<Figure size 720x360 with 1 Axes>"
      ]
     },
     "metadata": {
      "needs_background": "light"
     },
     "output_type": "display_data"
    }
   ],
   "source": [
    "real_input.boxplot(column = feature, figsize = (10, 5))"
   ]
  },
  {
   "cell_type": "code",
   "execution_count": 44,
   "metadata": {},
   "outputs": [],
   "source": [
    "'''\n",
    "For feature \"height\",\n",
    "outliers found in both histogram and boxplot\n",
    "Set \"height\" < 148 = 148 and \"height\" > 180 = 180\n",
    "'''\n",
    "\n",
    "real_input[feature] = real_input[feature].mask(real_input[feature] < 148., other = 148.)\n",
    "real_input[feature] = real_input[feature].mask(real_input[feature] > 180., other = 180.)"
   ]
  },
  {
   "cell_type": "code",
   "execution_count": 45,
   "metadata": {},
   "outputs": [
    {
     "name": "stdout",
     "output_type": "stream",
     "text": [
      "feature height details =\n"
     ]
    },
    {
     "data": {
      "text/plain": [
       "count    2002.000000\n",
       "mean      164.648352\n",
       "std         7.672339\n",
       "min       148.000000\n",
       "25%       159.000000\n",
       "50%       165.000000\n",
       "75%       170.000000\n",
       "max       180.000000\n",
       "Name: height, dtype: float64"
      ]
     },
     "execution_count": 45,
     "metadata": {},
     "output_type": "execute_result"
    }
   ],
   "source": [
    "print(\"feature\", feature, \"details =\")\n",
    "real_input[feature].describe()"
   ]
  },
  {
   "cell_type": "code",
   "execution_count": 46,
   "metadata": {},
   "outputs": [
    {
     "data": {
      "text/plain": [
       "<matplotlib.axes._subplots.AxesSubplot at 0xc5b1b50>"
      ]
     },
     "execution_count": 46,
     "metadata": {},
     "output_type": "execute_result"
    },
    {
     "data": {
      "image/png": "[encoded data removed]",
      "text/plain": [
       "<Figure size 720x360 with 1 Axes>"
      ]
     },
     "metadata": {
      "needs_background": "light"
     },
     "output_type": "display_data"
    }
   ],
   "source": [
    "'''\n",
    "Feature \"height\" is now well distributed\n",
    "'''\n",
    "real_input[feature].hist(figsize = (10, 5), bins = 10)"
   ]
  },
  {
   "cell_type": "code",
   "execution_count": 47,
   "metadata": {},
   "outputs": [
    {
     "data": {
      "text/plain": [
       "<matplotlib.axes._subplots.AxesSubplot at 0xc4fd090>"
      ]
     },
     "execution_count": 47,
     "metadata": {},
     "output_type": "execute_result"
    },
    {
     "data": {
      "image/png": "[encoded data removed]",
      "text/plain": [
       "<Figure size 720x360 with 1 Axes>"
      ]
     },
     "metadata": {
      "needs_background": "light"
     },
     "output_type": "display_data"
    }
   ],
   "source": [
    "real_input.boxplot(column = feature, figsize = (10, 5))"
   ]
  },
  {
   "cell_type": "code",
   "execution_count": 48,
   "metadata": {},
   "outputs": [
    {
     "data": {
      "text/plain": [
       "<matplotlib.axes._subplots.AxesSubplot at 0xc70aad0>"
      ]
     },
     "execution_count": 48,
     "metadata": {},
     "output_type": "execute_result"
    },
    {
     "data": {
      "image/png": "[encoded data removed]",
      "text/plain": [
       "<Figure size 720x360 with 1 Axes>"
      ]
     },
     "metadata": {
      "needs_background": "light"
     },
     "output_type": "display_data"
    }
   ],
   "source": [
    "j += 1\n",
    "feature = features[j]\n",
    "real_input[feature].hist(figsize = (10, 5), bins = 20)"
   ]
  },
  {
   "cell_type": "code",
   "execution_count": 49,
   "metadata": {},
   "outputs": [
    {
     "data": {
      "text/plain": [
       "<matplotlib.axes._subplots.AxesSubplot at 0xd075f50>"
      ]
     },
     "execution_count": 49,
     "metadata": {},
     "output_type": "execute_result"
    },
    {
     "data": {
      "image/png": "[encoded data removed]",
      "text/plain": [
       "<Figure size 720x360 with 1 Axes>"
      ]
     },
     "metadata": {
      "needs_background": "light"
     },
     "output_type": "display_data"
    }
   ],
   "source": [
    "real_input.boxplot(column = feature, figsize = (10, 5))"
   ]
  },
  {
   "cell_type": "code",
   "execution_count": 50,
   "metadata": {},
   "outputs": [],
   "source": [
    "'''\n",
    "For feature \"weight\",\n",
    "outliers found in both histogram and boxplot\n",
    "Set \"weight\" < 55 = 55 and \"weight\" > 105 = 105\n",
    "'''\n",
    "\n",
    "real_input[feature] = real_input[feature].mask(real_input[feature] < 55., other = 55.)\n",
    "real_input[feature] = real_input[feature].mask(real_input[feature] > 105., other = 105.)"
   ]
  },
  {
   "cell_type": "code",
   "execution_count": 51,
   "metadata": {},
   "outputs": [
    {
     "name": "stdout",
     "output_type": "stream",
     "text": [
      "feature weight details =\n"
     ]
    },
    {
     "data": {
      "text/plain": [
       "count    2002.000000\n",
       "mean       74.590110\n",
       "std        13.059136\n",
       "min        55.000000\n",
       "25%        65.000000\n",
       "50%        73.000000\n",
       "75%        83.000000\n",
       "max       105.000000\n",
       "Name: weight, dtype: float64"
      ]
     },
     "execution_count": 51,
     "metadata": {},
     "output_type": "execute_result"
    }
   ],
   "source": [
    "print(\"feature\", feature, \"details =\")\n",
    "real_input[feature].describe()"
   ]
  },
  {
   "cell_type": "code",
   "execution_count": 52,
   "metadata": {},
   "outputs": [
    {
     "data": {
      "text/plain": [
       "<matplotlib.axes._subplots.AxesSubplot at 0xd1830d0>"
      ]
     },
     "execution_count": 52,
     "metadata": {},
     "output_type": "execute_result"
    },
    {
     "data": {
      "image/png": "[encoded data removed]",
      "text/plain": [
       "<Figure size 720x360 with 1 Axes>"
      ]
     },
     "metadata": {
      "needs_background": "light"
     },
     "output_type": "display_data"
    }
   ],
   "source": [
    "'''\n",
    "Feature \"weight\" is now well distributed\n",
    "'''\n",
    "real_input[feature].hist(figsize = (10, 5), bins = 10)"
   ]
  },
  {
   "cell_type": "code",
   "execution_count": 53,
   "metadata": {},
   "outputs": [
    {
     "data": {
      "text/plain": [
       "<matplotlib.axes._subplots.AxesSubplot at 0xcc7a6b0>"
      ]
     },
     "execution_count": 53,
     "metadata": {},
     "output_type": "execute_result"
    },
    {
     "data": {
      "image/png": "[encoded data removed]",
      "text/plain": [
       "<Figure size 720x360 with 1 Axes>"
      ]
     },
     "metadata": {
      "needs_background": "light"
     },
     "output_type": "display_data"
    }
   ],
   "source": [
    "real_input.boxplot(column = feature, figsize = (10, 5))"
   ]
  },
  {
   "cell_type": "code",
   "execution_count": 54,
   "metadata": {},
   "outputs": [
    {
     "data": {
      "text/plain": [
       "<matplotlib.axes._subplots.AxesSubplot at 0xd27d610>"
      ]
     },
     "execution_count": 54,
     "metadata": {},
     "output_type": "execute_result"
    },
    {
     "data": {
      "image/png": "[encoded data removed]",
      "text/plain": [
       "<Figure size 720x360 with 1 Axes>"
      ]
     },
     "metadata": {
      "needs_background": "light"
     },
     "output_type": "display_data"
    }
   ],
   "source": [
    "j += 1\n",
    "feature = features[j]\n",
    "real_input[feature].hist(figsize = (10, 5), bins = 20)"
   ]
  },
  {
   "cell_type": "code",
   "execution_count": 55,
   "metadata": {},
   "outputs": [
    {
     "data": {
      "text/plain": [
       "<matplotlib.axes._subplots.AxesSubplot at 0xd2e91b0>"
      ]
     },
     "execution_count": 55,
     "metadata": {},
     "output_type": "execute_result"
    },
    {
     "data": {
      "image/png": "[encoded data removed]",
      "text/plain": [
       "<Figure size 720x360 with 1 Axes>"
      ]
     },
     "metadata": {
      "needs_background": "light"
     },
     "output_type": "display_data"
    }
   ],
   "source": [
    "real_input.boxplot(column = feature, figsize = (10, 5))"
   ]
  },
  {
   "cell_type": "code",
   "execution_count": 56,
   "metadata": {},
   "outputs": [],
   "source": [
    "'''\n",
    "For feature \"ap_hi\",\n",
    "outliers found in both histogram and boxplot\n",
    "Set \"ap_hi\" < 100 = 100 and \"ap_hi\" > 170 = 170 \n",
    "'''\n",
    "\n",
    "real_input[feature] = real_input[feature].mask(real_input[feature] < 100., other = 100.)\n",
    "real_input[feature] = real_input[feature].mask(real_input[feature] > 170., other = 170.)"
   ]
  },
  {
   "cell_type": "code",
   "execution_count": 57,
   "metadata": {},
   "outputs": [
    {
     "name": "stdout",
     "output_type": "stream",
     "text": [
      "feature ap_hi details =\n"
     ]
    },
    {
     "data": {
      "text/plain": [
       "count    2002.000000\n",
       "mean      126.746254\n",
       "std        16.224362\n",
       "min       100.000000\n",
       "25%       120.000000\n",
       "50%       120.000000\n",
       "75%       140.000000\n",
       "max       170.000000\n",
       "Name: ap_hi, dtype: float64"
      ]
     },
     "execution_count": 57,
     "metadata": {},
     "output_type": "execute_result"
    }
   ],
   "source": [
    "print(\"feature\", feature, \"details =\")\n",
    "real_input[feature].describe()"
   ]
  },
  {
   "cell_type": "code",
   "execution_count": 58,
   "metadata": {},
   "outputs": [
    {
     "data": {
      "text/plain": [
       "<matplotlib.axes._subplots.AxesSubplot at 0xd331430>"
      ]
     },
     "execution_count": 58,
     "metadata": {},
     "output_type": "execute_result"
    },
    {
     "data": {
      "image/png": "[encoded data removed]",
      "text/plain": [
       "<Figure size 720x360 with 1 Axes>"
      ]
     },
     "metadata": {
      "needs_background": "light"
     },
     "output_type": "display_data"
    }
   ],
   "source": [
    "'''\n",
    "Feature \"ap_hi\" is now well distributed\n",
    "'''\n",
    "real_input[feature].hist(figsize = (10, 5), bins = 10)"
   ]
  },
  {
   "cell_type": "code",
   "execution_count": 59,
   "metadata": {},
   "outputs": [
    {
     "data": {
      "text/plain": [
       "<matplotlib.axes._subplots.AxesSubplot at 0xd2e9370>"
      ]
     },
     "execution_count": 59,
     "metadata": {},
     "output_type": "execute_result"
    },
    {
     "data": {
      "image/png": "[encoded data removed]",
      "text/plain": [
       "<Figure size 720x360 with 1 Axes>"
      ]
     },
     "metadata": {
      "needs_background": "light"
     },
     "output_type": "display_data"
    }
   ],
   "source": [
    "real_input.boxplot(column = feature, figsize = (10, 5))"
   ]
  },
  {
   "cell_type": "code",
   "execution_count": 60,
   "metadata": {},
   "outputs": [
    {
     "data": {
      "text/plain": [
       "<matplotlib.axes._subplots.AxesSubplot at 0xd7d6b90>"
      ]
     },
     "execution_count": 60,
     "metadata": {},
     "output_type": "execute_result"
    },
    {
     "data": {
      "image/png": "[encoded data removed]",
      "text/plain": [
       "<Figure size 720x360 with 1 Axes>"
      ]
     },
     "metadata": {
      "needs_background": "light"
     },
     "output_type": "display_data"
    }
   ],
   "source": [
    "j += 1\n",
    "feature = features[j]\n",
    "real_input[feature].hist(figsize = (10, 5), bins = 20)"
   ]
  },
  {
   "cell_type": "code",
   "execution_count": 61,
   "metadata": {},
   "outputs": [
    {
     "data": {
      "text/plain": [
       "<matplotlib.axes._subplots.AxesSubplot at 0xd49bc30>"
      ]
     },
     "execution_count": 61,
     "metadata": {},
     "output_type": "execute_result"
    },
    {
     "data": {
      "image/png": "[encoded data removed]",
      "text/plain": [
       "<Figure size 720x360 with 1 Axes>"
      ]
     },
     "metadata": {
      "needs_background": "light"
     },
     "output_type": "display_data"
    }
   ],
   "source": [
    "real_input.boxplot(column = feature, figsize = (10, 5))"
   ]
  },
  {
   "cell_type": "code",
   "execution_count": 62,
   "metadata": {},
   "outputs": [],
   "source": [
    "'''\n",
    "For feature \"ap_lo\",\n",
    "outliers found in both histogram and boxplot\n",
    "Set \"ap_lo\" < 40 = 40 and \"ap_lo\" > 200 = 200\n",
    "'''\n",
    "\n",
    "real_input[feature] = real_input[feature].mask(real_input[feature] < 65., other = 65.)\n",
    "real_input[feature] = real_input[feature].mask(real_input[feature] > 105., other = 105.)"
   ]
  },
  {
   "cell_type": "code",
   "execution_count": 63,
   "metadata": {},
   "outputs": [
    {
     "name": "stdout",
     "output_type": "stream",
     "text": [
      "feature ap_lo details =\n"
     ]
    },
    {
     "data": {
      "text/plain": [
       "count    2002.000000\n",
       "mean       81.760240\n",
       "std         9.283446\n",
       "min        65.000000\n",
       "25%        80.000000\n",
       "50%        80.000000\n",
       "75%        90.000000\n",
       "max       105.000000\n",
       "Name: ap_lo, dtype: float64"
      ]
     },
     "execution_count": 63,
     "metadata": {},
     "output_type": "execute_result"
    }
   ],
   "source": [
    "print(\"feature\", feature, \"details =\")\n",
    "real_input[feature].describe()"
   ]
  },
  {
   "cell_type": "code",
   "execution_count": 64,
   "metadata": {},
   "outputs": [
    {
     "data": {
      "text/plain": [
       "<matplotlib.axes._subplots.AxesSubplot at 0xd8f57d0>"
      ]
     },
     "execution_count": 64,
     "metadata": {},
     "output_type": "execute_result"
    },
    {
     "data": {
      "image/png": "[encoded data removed]",
      "text/plain": [
       "<Figure size 720x360 with 1 Axes>"
      ]
     },
     "metadata": {
      "needs_background": "light"
     },
     "output_type": "display_data"
    }
   ],
   "source": [
    "'''\n",
    "Feature \"ap_lo\" is now well distributed\n",
    "'''\n",
    "real_input[feature].hist(figsize = (10, 5), bins = 10)"
   ]
  },
  {
   "cell_type": "code",
   "execution_count": 65,
   "metadata": {},
   "outputs": [
    {
     "data": {
      "text/plain": [
       "<matplotlib.axes._subplots.AxesSubplot at 0xd950750>"
      ]
     },
     "execution_count": 65,
     "metadata": {},
     "output_type": "execute_result"
    },
    {
     "data": {
      "image/png": "[encoded data removed]",
      "text/plain": [
       "<Figure size 720x360 with 1 Axes>"
      ]
     },
     "metadata": {
      "needs_background": "light"
     },
     "output_type": "display_data"
    }
   ],
   "source": [
    "real_input.boxplot(column = feature, figsize = (10, 5))"
   ]
  },
  {
   "cell_type": "code",
   "execution_count": 66,
   "metadata": {},
   "outputs": [
    {
     "data": {
      "text/plain": [
       "<matplotlib.axes._subplots.AxesSubplot at 0xd990c90>"
      ]
     },
     "execution_count": 66,
     "metadata": {},
     "output_type": "execute_result"
    },
    {
     "data": {
      "image/png": "[encoded data removed]",
      "text/plain": [
       "<Figure size 720x360 with 1 Axes>"
      ]
     },
     "metadata": {
      "needs_background": "light"
     },
     "output_type": "display_data"
    }
   ],
   "source": [
    "j += 1\n",
    "feature = features[j]\n",
    "real_input[feature].hist(figsize = (10, 5), bins = 20)"
   ]
  },
  {
   "cell_type": "code",
   "execution_count": 67,
   "metadata": {},
   "outputs": [
    {
     "data": {
      "text/plain": [
       "<matplotlib.axes._subplots.AxesSubplot at 0xd9fdfb0>"
      ]
     },
     "execution_count": 67,
     "metadata": {},
     "output_type": "execute_result"
    },
    {
     "data": {
      "image/png": "[encoded data removed]",
      "text/plain": [
       "<Figure size 720x360 with 1 Axes>"
      ]
     },
     "metadata": {
      "needs_background": "light"
     },
     "output_type": "display_data"
    }
   ],
   "source": [
    "real_input.boxplot(column = feature, figsize = (10, 5))"
   ]
  },
  {
   "cell_type": "code",
   "execution_count": 68,
   "metadata": {},
   "outputs": [
    {
     "data": {
      "text/plain": [
       "'\\nattribute \"cholesterol\" is well distributed. so leave it as it is.\\n'"
      ]
     },
     "execution_count": 68,
     "metadata": {},
     "output_type": "execute_result"
    }
   ],
   "source": [
    "'''\n",
    "attribute \"cholesterol\" is well distributed. so leave it as it is.\n",
    "'''"
   ]
  },
  {
   "cell_type": "code",
   "execution_count": 69,
   "metadata": {},
   "outputs": [
    {
     "data": {
      "text/plain": [
       "<matplotlib.axes._subplots.AxesSubplot at 0xdb0d630>"
      ]
     },
     "execution_count": 69,
     "metadata": {},
     "output_type": "execute_result"
    },
    {
     "data": {
      "image/png": "[encoded data removed]",
      "text/plain": [
       "<Figure size 720x360 with 1 Axes>"
      ]
     },
     "metadata": {
      "needs_background": "light"
     },
     "output_type": "display_data"
    }
   ],
   "source": [
    "j += 1\n",
    "feature = features[j]\n",
    "real_input[feature].hist(figsize = (10, 5), bins = 20)"
   ]
  },
  {
   "cell_type": "code",
   "execution_count": 70,
   "metadata": {},
   "outputs": [
    {
     "data": {
      "text/plain": [
       "<matplotlib.axes._subplots.AxesSubplot at 0xdf98710>"
      ]
     },
     "execution_count": 70,
     "metadata": {},
     "output_type": "execute_result"
    },
    {
     "data": {
      "image/png": "[encoded data removed]",
      "text/plain": [
       "<Figure size 720x360 with 1 Axes>"
      ]
     },
     "metadata": {
      "needs_background": "light"
     },
     "output_type": "display_data"
    }
   ],
   "source": [
    "real_input.boxplot(column = feature, figsize = (10, 5))"
   ]
  },
  {
   "cell_type": "code",
   "execution_count": 71,
   "metadata": {},
   "outputs": [],
   "source": [
    "'''\n",
    "For feature \"gluc\",\n",
    "outliers found in both histogram and boxplot\n",
    "Set \"gluc\" > 4 = 4\n",
    "'''\n",
    "\n",
    "real_input[feature] = real_input[feature].mask(real_input[feature] > 2., other = 2.)"
   ]
  },
  {
   "cell_type": "code",
   "execution_count": 72,
   "metadata": {},
   "outputs": [
    {
     "name": "stdout",
     "output_type": "stream",
     "text": [
      "feature gluc details =\n"
     ]
    },
    {
     "data": {
      "text/plain": [
       "count    2002.000000\n",
       "mean        1.144356\n",
       "std         0.351538\n",
       "min         1.000000\n",
       "25%         1.000000\n",
       "50%         1.000000\n",
       "75%         1.000000\n",
       "max         2.000000\n",
       "Name: gluc, dtype: float64"
      ]
     },
     "execution_count": 72,
     "metadata": {},
     "output_type": "execute_result"
    }
   ],
   "source": [
    "print(\"feature\", feature, \"details =\")\n",
    "real_input[feature].describe()"
   ]
  },
  {
   "cell_type": "code",
   "execution_count": 73,
   "metadata": {},
   "outputs": [
    {
     "data": {
      "text/plain": [
       "<matplotlib.axes._subplots.AxesSubplot at 0xde8f050>"
      ]
     },
     "execution_count": 73,
     "metadata": {},
     "output_type": "execute_result"
    },
    {
     "data": {
      "image/png": "[encoded data removed]",
      "text/plain": [
       "<Figure size 720x360 with 1 Axes>"
      ]
     },
     "metadata": {
      "needs_background": "light"
     },
     "output_type": "display_data"
    }
   ],
   "source": [
    "'''\n",
    "Feature \"gluc\" is now well distributed\n",
    "'''\n",
    "real_input[feature].hist(figsize = (10, 5), bins = 10)"
   ]
  },
  {
   "cell_type": "code",
   "execution_count": 74,
   "metadata": {},
   "outputs": [
    {
     "data": {
      "text/plain": [
       "<matplotlib.axes._subplots.AxesSubplot at 0xe0c34d0>"
      ]
     },
     "execution_count": 74,
     "metadata": {},
     "output_type": "execute_result"
    },
    {
     "data": {
      "image/png": "[encoded data removed]",
      "text/plain": [
       "<Figure size 720x360 with 1 Axes>"
      ]
     },
     "metadata": {
      "needs_background": "light"
     },
     "output_type": "display_data"
    }
   ],
   "source": [
    "real_input.boxplot(column = feature, figsize = (10, 5))"
   ]
  },
  {
   "cell_type": "code",
   "execution_count": 75,
   "metadata": {},
   "outputs": [
    {
     "data": {
      "text/plain": [
       "<matplotlib.axes._subplots.AxesSubplot at 0xe20f8b0>"
      ]
     },
     "execution_count": 75,
     "metadata": {},
     "output_type": "execute_result"
    },
    {
     "data": {
      "image/png": "[encoded data removed]",
      "text/plain": [
       "<Figure size 720x360 with 1 Axes>"
      ]
     },
     "metadata": {
      "needs_background": "light"
     },
     "output_type": "display_data"
    }
   ],
   "source": [
    "j += 1\n",
    "feature = features[j]\n",
    "real_input[feature].hist(figsize = (10, 5), bins = 20)"
   ]
  },
  {
   "cell_type": "code",
   "execution_count": 76,
   "metadata": {},
   "outputs": [
    {
     "data": {
      "text/plain": [
       "<matplotlib.axes._subplots.AxesSubplot at 0xe122b70>"
      ]
     },
     "execution_count": 76,
     "metadata": {},
     "output_type": "execute_result"
    },
    {
     "data": {
      "image/png": "[encoded data removed]",
      "text/plain": [
       "<Figure size 720x360 with 1 Axes>"
      ]
     },
     "metadata": {
      "needs_background": "light"
     },
     "output_type": "display_data"
    }
   ],
   "source": [
    "real_input.boxplot(column = feature, figsize = (10, 5))"
   ]
  },
  {
   "cell_type": "code",
   "execution_count": 77,
   "metadata": {},
   "outputs": [
    {
     "data": {
      "text/plain": [
       "'\\nfeature \"smoke\" is well distributed. so leave it as it is.\\n'"
      ]
     },
     "execution_count": 77,
     "metadata": {},
     "output_type": "execute_result"
    }
   ],
   "source": [
    "'''\n",
    "feature \"smoke\" is well distributed. so leave it as it is.\n",
    "'''"
   ]
  },
  {
   "cell_type": "code",
   "execution_count": 78,
   "metadata": {},
   "outputs": [
    {
     "data": {
      "text/plain": [
       "<matplotlib.axes._subplots.AxesSubplot at 0xe163350>"
      ]
     },
     "execution_count": 78,
     "metadata": {},
     "output_type": "execute_result"
    },
    {
     "data": {
      "image/png": "[encoded data removed]",
      "text/plain": [
       "<Figure size 720x360 with 1 Axes>"
      ]
     },
     "metadata": {
      "needs_background": "light"
     },
     "output_type": "display_data"
    }
   ],
   "source": [
    "j += 1\n",
    "feature = features[j]\n",
    "real_input[feature].hist(figsize = (10, 5), bins = 20)"
   ]
  },
  {
   "cell_type": "code",
   "execution_count": 79,
   "metadata": {},
   "outputs": [
    {
     "data": {
      "text/plain": [
       "<matplotlib.axes._subplots.AxesSubplot at 0xe1c5830>"
      ]
     },
     "execution_count": 79,
     "metadata": {},
     "output_type": "execute_result"
    },
    {
     "data": {
      "image/png": "[encoded data removed]",
      "text/plain": [
       "<Figure size 720x360 with 1 Axes>"
      ]
     },
     "metadata": {
      "needs_background": "light"
     },
     "output_type": "display_data"
    }
   ],
   "source": [
    "real_input.boxplot(column = feature, figsize = (10, 5))"
   ]
  },
  {
   "cell_type": "code",
   "execution_count": 80,
   "metadata": {},
   "outputs": [
    {
     "data": {
      "text/plain": [
       "'\\nfeature \"alco\" is well distributed. so leave it as it is.\\n'"
      ]
     },
     "execution_count": 80,
     "metadata": {},
     "output_type": "execute_result"
    }
   ],
   "source": [
    "'''\n",
    "feature \"alco\" is well distributed. so leave it as it is.\n",
    "'''"
   ]
  },
  {
   "cell_type": "code",
   "execution_count": 81,
   "metadata": {},
   "outputs": [
    {
     "data": {
      "text/plain": [
       "<matplotlib.axes._subplots.AxesSubplot at 0xe671390>"
      ]
     },
     "execution_count": 81,
     "metadata": {},
     "output_type": "execute_result"
    },
    {
     "data": {
      "image/png": "[encoded data removed]",
      "text/plain": [
       "<Figure size 720x360 with 1 Axes>"
      ]
     },
     "metadata": {
      "needs_background": "light"
     },
     "output_type": "display_data"
    }
   ],
   "source": [
    "j += 1\n",
    "feature = features[j]\n",
    "real_input[feature].hist(figsize = (10, 5), bins = 20)"
   ]
  },
  {
   "cell_type": "code",
   "execution_count": 82,
   "metadata": {},
   "outputs": [
    {
     "data": {
      "text/plain": [
       "<matplotlib.axes._subplots.AxesSubplot at 0xe3ea0f0>"
      ]
     },
     "execution_count": 82,
     "metadata": {},
     "output_type": "execute_result"
    },
    {
     "data": {
      "image/png": "[encoded data removed]",
      "text/plain": [
       "<Figure size 720x360 with 1 Axes>"
      ]
     },
     "metadata": {
      "needs_background": "light"
     },
     "output_type": "display_data"
    }
   ],
   "source": [
    "real_input.boxplot(column = feature, figsize = (10, 5))"
   ]
  },
  {
   "cell_type": "code",
   "execution_count": 83,
   "metadata": {},
   "outputs": [
    {
     "data": {
      "text/plain": [
       "'\\nfeature \"active\" is well distributed. so leave it as it is.\\n'"
      ]
     },
     "execution_count": 83,
     "metadata": {},
     "output_type": "execute_result"
    }
   ],
   "source": [
    "'''\n",
    "feature \"active\" is well distributed. so leave it as it is.\n",
    "'''"
   ]
  },
  {
   "cell_type": "code",
   "execution_count": 84,
   "metadata": {},
   "outputs": [],
   "source": [
    "# data normalization "
   ]
  },
  {
   "cell_type": "code",
   "execution_count": 85,
   "metadata": {},
   "outputs": [
    {
     "data": {
      "text/html": [
       "<div>\n",
       "<style scoped>\n",
       "    .dataframe tbody tr th:only-of-type {\n",
       "        vertical-align: middle;\n",
       "    }\n",
       "\n",
       "    .dataframe tbody tr th {\n",
       "        vertical-align: top;\n",
       "    }\n",
       "\n",
       "    .dataframe thead th {\n",
       "        text-align: right;\n",
       "    }\n",
       "</style>\n",
       "<table border=\"1\" class=\"dataframe\">\n",
       "  <thead>\n",
       "    <tr style=\"text-align: right;\">\n",
       "      <th></th>\n",
       "      <th>age</th>\n",
       "      <th>gender</th>\n",
       "      <th>height</th>\n",
       "      <th>weight</th>\n",
       "      <th>ap_hi</th>\n",
       "      <th>ap_lo</th>\n",
       "      <th>cholesterol</th>\n",
       "      <th>gluc</th>\n",
       "      <th>smoke</th>\n",
       "      <th>alco</th>\n",
       "      <th>active</th>\n",
       "    </tr>\n",
       "  </thead>\n",
       "  <tbody>\n",
       "    <tr>\n",
       "      <td>103</td>\n",
       "      <td>0.405166</td>\n",
       "      <td>1.0</td>\n",
       "      <td>1.00000</td>\n",
       "      <td>0.80</td>\n",
       "      <td>0.357143</td>\n",
       "      <td>0.375</td>\n",
       "      <td>0.0</td>\n",
       "      <td>1.0</td>\n",
       "      <td>1.0</td>\n",
       "      <td>0.0</td>\n",
       "      <td>1.0</td>\n",
       "    </tr>\n",
       "    <tr>\n",
       "      <td>112</td>\n",
       "      <td>0.245597</td>\n",
       "      <td>0.0</td>\n",
       "      <td>0.31250</td>\n",
       "      <td>0.46</td>\n",
       "      <td>0.142857</td>\n",
       "      <td>0.125</td>\n",
       "      <td>0.0</td>\n",
       "      <td>0.0</td>\n",
       "      <td>0.0</td>\n",
       "      <td>0.0</td>\n",
       "      <td>1.0</td>\n",
       "    </tr>\n",
       "    <tr>\n",
       "      <td>130</td>\n",
       "      <td>0.817056</td>\n",
       "      <td>1.0</td>\n",
       "      <td>0.65625</td>\n",
       "      <td>0.08</td>\n",
       "      <td>0.428571</td>\n",
       "      <td>0.375</td>\n",
       "      <td>0.0</td>\n",
       "      <td>0.0</td>\n",
       "      <td>0.0</td>\n",
       "      <td>0.0</td>\n",
       "      <td>0.0</td>\n",
       "    </tr>\n",
       "    <tr>\n",
       "      <td>147</td>\n",
       "      <td>0.975344</td>\n",
       "      <td>1.0</td>\n",
       "      <td>0.56250</td>\n",
       "      <td>0.28</td>\n",
       "      <td>0.428571</td>\n",
       "      <td>0.625</td>\n",
       "      <td>0.5</td>\n",
       "      <td>0.0</td>\n",
       "      <td>0.0</td>\n",
       "      <td>0.0</td>\n",
       "      <td>1.0</td>\n",
       "    </tr>\n",
       "    <tr>\n",
       "      <td>189</td>\n",
       "      <td>0.024015</td>\n",
       "      <td>1.0</td>\n",
       "      <td>1.00000</td>\n",
       "      <td>0.40</td>\n",
       "      <td>0.285714</td>\n",
       "      <td>0.375</td>\n",
       "      <td>0.0</td>\n",
       "      <td>0.0</td>\n",
       "      <td>0.0</td>\n",
       "      <td>0.0</td>\n",
       "      <td>1.0</td>\n",
       "    </tr>\n",
       "    <tr>\n",
       "      <td>...</td>\n",
       "      <td>...</td>\n",
       "      <td>...</td>\n",
       "      <td>...</td>\n",
       "      <td>...</td>\n",
       "      <td>...</td>\n",
       "      <td>...</td>\n",
       "      <td>...</td>\n",
       "      <td>...</td>\n",
       "      <td>...</td>\n",
       "      <td>...</td>\n",
       "      <td>...</td>\n",
       "    </tr>\n",
       "    <tr>\n",
       "      <td>69695</td>\n",
       "      <td>0.788558</td>\n",
       "      <td>0.0</td>\n",
       "      <td>0.62500</td>\n",
       "      <td>0.10</td>\n",
       "      <td>0.285714</td>\n",
       "      <td>0.375</td>\n",
       "      <td>0.0</td>\n",
       "      <td>0.0</td>\n",
       "      <td>0.0</td>\n",
       "      <td>0.0</td>\n",
       "      <td>1.0</td>\n",
       "    </tr>\n",
       "    <tr>\n",
       "      <td>69732</td>\n",
       "      <td>0.101718</td>\n",
       "      <td>0.0</td>\n",
       "      <td>0.09375</td>\n",
       "      <td>0.32</td>\n",
       "      <td>0.857143</td>\n",
       "      <td>0.875</td>\n",
       "      <td>0.0</td>\n",
       "      <td>0.0</td>\n",
       "      <td>0.0</td>\n",
       "      <td>0.0</td>\n",
       "      <td>1.0</td>\n",
       "    </tr>\n",
       "    <tr>\n",
       "      <td>69872</td>\n",
       "      <td>0.797951</td>\n",
       "      <td>0.0</td>\n",
       "      <td>0.12500</td>\n",
       "      <td>0.02</td>\n",
       "      <td>0.857143</td>\n",
       "      <td>1.000</td>\n",
       "      <td>0.0</td>\n",
       "      <td>0.0</td>\n",
       "      <td>0.0</td>\n",
       "      <td>0.0</td>\n",
       "      <td>1.0</td>\n",
       "    </tr>\n",
       "    <tr>\n",
       "      <td>69919</td>\n",
       "      <td>0.318070</td>\n",
       "      <td>0.0</td>\n",
       "      <td>0.34375</td>\n",
       "      <td>0.00</td>\n",
       "      <td>0.142857</td>\n",
       "      <td>0.125</td>\n",
       "      <td>0.5</td>\n",
       "      <td>1.0</td>\n",
       "      <td>0.0</td>\n",
       "      <td>0.0</td>\n",
       "      <td>1.0</td>\n",
       "    </tr>\n",
       "    <tr>\n",
       "      <td>69958</td>\n",
       "      <td>0.096809</td>\n",
       "      <td>1.0</td>\n",
       "      <td>0.65625</td>\n",
       "      <td>0.24</td>\n",
       "      <td>0.857143</td>\n",
       "      <td>0.625</td>\n",
       "      <td>0.0</td>\n",
       "      <td>0.0</td>\n",
       "      <td>0.0</td>\n",
       "      <td>0.0</td>\n",
       "      <td>1.0</td>\n",
       "    </tr>\n",
       "  </tbody>\n",
       "</table>\n",
       "<p>2002 rows × 11 columns</p>\n",
       "</div>"
      ],
      "text/plain": [
       "            age  gender   height  weight     ap_hi  ap_lo  cholesterol  gluc  \\\n",
       "103    0.405166     1.0  1.00000    0.80  0.357143  0.375          0.0   1.0   \n",
       "112    0.245597     0.0  0.31250    0.46  0.142857  0.125          0.0   0.0   \n",
       "130    0.817056     1.0  0.65625    0.08  0.428571  0.375          0.0   0.0   \n",
       "147    0.975344     1.0  0.56250    0.28  0.428571  0.625          0.5   0.0   \n",
       "189    0.024015     1.0  1.00000    0.40  0.285714  0.375          0.0   0.0   \n",
       "...         ...     ...      ...     ...       ...    ...          ...   ...   \n",
       "69695  0.788558     0.0  0.62500    0.10  0.285714  0.375          0.0   0.0   \n",
       "69732  0.101718     0.0  0.09375    0.32  0.857143  0.875          0.0   0.0   \n",
       "69872  0.797951     0.0  0.12500    0.02  0.857143  1.000          0.0   0.0   \n",
       "69919  0.318070     0.0  0.34375    0.00  0.142857  0.125          0.5   1.0   \n",
       "69958  0.096809     1.0  0.65625    0.24  0.857143  0.625          0.0   0.0   \n",
       "\n",
       "       smoke  alco  active  \n",
       "103      1.0   0.0     1.0  \n",
       "112      0.0   0.0     1.0  \n",
       "130      0.0   0.0     0.0  \n",
       "147      0.0   0.0     1.0  \n",
       "189      0.0   0.0     1.0  \n",
       "...      ...   ...     ...  \n",
       "69695    0.0   0.0     1.0  \n",
       "69732    0.0   0.0     1.0  \n",
       "69872    0.0   0.0     1.0  \n",
       "69919    0.0   0.0     1.0  \n",
       "69958    0.0   0.0     1.0  \n",
       "\n",
       "[2002 rows x 11 columns]"
      ]
     },
     "execution_count": 85,
     "metadata": {},
     "output_type": "execute_result"
    }
   ],
   "source": [
    "'''    \n",
    "There are a number of techniques to normalize data such as-\n",
    "min-max normalization, feature clipping, log scaling, z-score etc.\n",
    "more information available at -\n",
    "https://developers.google.com/machine-learning/data-prep/transform/normalization\n",
    "'''\n",
    "# min-max equation -\n",
    "# X = (X - Xmin) / (Xmax - Xmin)\n",
    "#real_input = (real_input - real_input.min()) / (real_input.max() - real_input.min())\n",
    "real_input = (real_input - real_input.min()) / (real_input.max() - real_input.min())\n",
    "real_input"
   ]
  },
  {
   "cell_type": "code",
   "execution_count": 86,
   "metadata": {},
   "outputs": [
    {
     "data": {
      "text/html": [
       "<div>\n",
       "<style scoped>\n",
       "    .dataframe tbody tr th:only-of-type {\n",
       "        vertical-align: middle;\n",
       "    }\n",
       "\n",
       "    .dataframe tbody tr th {\n",
       "        vertical-align: top;\n",
       "    }\n",
       "\n",
       "    .dataframe thead th {\n",
       "        text-align: right;\n",
       "    }\n",
       "</style>\n",
       "<table border=\"1\" class=\"dataframe\">\n",
       "  <thead>\n",
       "    <tr style=\"text-align: right;\">\n",
       "      <th></th>\n",
       "      <th>age</th>\n",
       "      <th>gender</th>\n",
       "      <th>height</th>\n",
       "      <th>weight</th>\n",
       "      <th>ap_hi</th>\n",
       "      <th>ap_lo</th>\n",
       "      <th>cholesterol</th>\n",
       "      <th>gluc</th>\n",
       "      <th>smoke</th>\n",
       "      <th>alco</th>\n",
       "      <th>active</th>\n",
       "    </tr>\n",
       "  </thead>\n",
       "  <tbody>\n",
       "    <tr>\n",
       "      <td>age</td>\n",
       "      <td>1.000000</td>\n",
       "      <td>-0.050347</td>\n",
       "      <td>-0.109544</td>\n",
       "      <td>0.010730</td>\n",
       "      <td>0.211523</td>\n",
       "      <td>0.156452</td>\n",
       "      <td>0.163849</td>\n",
       "      <td>0.048568</td>\n",
       "      <td>-0.052297</td>\n",
       "      <td>-0.037773</td>\n",
       "      <td>-0.015958</td>\n",
       "    </tr>\n",
       "    <tr>\n",
       "      <td>gender</td>\n",
       "      <td>-0.050347</td>\n",
       "      <td>1.000000</td>\n",
       "      <td>0.517658</td>\n",
       "      <td>0.183789</td>\n",
       "      <td>0.106121</td>\n",
       "      <td>0.101937</td>\n",
       "      <td>-0.004480</td>\n",
       "      <td>-0.014195</td>\n",
       "      <td>0.329894</td>\n",
       "      <td>0.161860</td>\n",
       "      <td>-0.042187</td>\n",
       "    </tr>\n",
       "    <tr>\n",
       "      <td>height</td>\n",
       "      <td>-0.109544</td>\n",
       "      <td>0.517658</td>\n",
       "      <td>1.000000</td>\n",
       "      <td>0.336576</td>\n",
       "      <td>0.028606</td>\n",
       "      <td>0.049713</td>\n",
       "      <td>-0.031233</td>\n",
       "      <td>-0.028975</td>\n",
       "      <td>0.222860</td>\n",
       "      <td>0.107093</td>\n",
       "      <td>-0.015880</td>\n",
       "    </tr>\n",
       "    <tr>\n",
       "      <td>weight</td>\n",
       "      <td>0.010730</td>\n",
       "      <td>0.183789</td>\n",
       "      <td>0.336576</td>\n",
       "      <td>1.000000</td>\n",
       "      <td>0.257364</td>\n",
       "      <td>0.260233</td>\n",
       "      <td>0.155033</td>\n",
       "      <td>0.130572</td>\n",
       "      <td>0.112084</td>\n",
       "      <td>0.059541</td>\n",
       "      <td>-0.019352</td>\n",
       "    </tr>\n",
       "    <tr>\n",
       "      <td>ap_hi</td>\n",
       "      <td>0.211523</td>\n",
       "      <td>0.106121</td>\n",
       "      <td>0.028606</td>\n",
       "      <td>0.257364</td>\n",
       "      <td>1.000000</td>\n",
       "      <td>0.748086</td>\n",
       "      <td>0.239528</td>\n",
       "      <td>0.112623</td>\n",
       "      <td>0.086165</td>\n",
       "      <td>0.071266</td>\n",
       "      <td>0.000831</td>\n",
       "    </tr>\n",
       "    <tr>\n",
       "      <td>ap_lo</td>\n",
       "      <td>0.156452</td>\n",
       "      <td>0.101937</td>\n",
       "      <td>0.049713</td>\n",
       "      <td>0.260233</td>\n",
       "      <td>0.748086</td>\n",
       "      <td>1.000000</td>\n",
       "      <td>0.218218</td>\n",
       "      <td>0.115814</td>\n",
       "      <td>0.093022</td>\n",
       "      <td>0.063626</td>\n",
       "      <td>0.014258</td>\n",
       "    </tr>\n",
       "    <tr>\n",
       "      <td>cholesterol</td>\n",
       "      <td>0.163849</td>\n",
       "      <td>-0.004480</td>\n",
       "      <td>-0.031233</td>\n",
       "      <td>0.155033</td>\n",
       "      <td>0.239528</td>\n",
       "      <td>0.218218</td>\n",
       "      <td>1.000000</td>\n",
       "      <td>0.383634</td>\n",
       "      <td>0.078339</td>\n",
       "      <td>0.027208</td>\n",
       "      <td>0.041696</td>\n",
       "    </tr>\n",
       "    <tr>\n",
       "      <td>gluc</td>\n",
       "      <td>0.048568</td>\n",
       "      <td>-0.014195</td>\n",
       "      <td>-0.028975</td>\n",
       "      <td>0.130572</td>\n",
       "      <td>0.112623</td>\n",
       "      <td>0.115814</td>\n",
       "      <td>0.383634</td>\n",
       "      <td>1.000000</td>\n",
       "      <td>0.023536</td>\n",
       "      <td>0.034993</td>\n",
       "      <td>0.024845</td>\n",
       "    </tr>\n",
       "    <tr>\n",
       "      <td>smoke</td>\n",
       "      <td>-0.052297</td>\n",
       "      <td>0.329894</td>\n",
       "      <td>0.222860</td>\n",
       "      <td>0.112084</td>\n",
       "      <td>0.086165</td>\n",
       "      <td>0.093022</td>\n",
       "      <td>0.078339</td>\n",
       "      <td>0.023536</td>\n",
       "      <td>1.000000</td>\n",
       "      <td>0.371992</td>\n",
       "      <td>0.027847</td>\n",
       "    </tr>\n",
       "    <tr>\n",
       "      <td>alco</td>\n",
       "      <td>-0.037773</td>\n",
       "      <td>0.161860</td>\n",
       "      <td>0.107093</td>\n",
       "      <td>0.059541</td>\n",
       "      <td>0.071266</td>\n",
       "      <td>0.063626</td>\n",
       "      <td>0.027208</td>\n",
       "      <td>0.034993</td>\n",
       "      <td>0.371992</td>\n",
       "      <td>1.000000</td>\n",
       "      <td>0.030099</td>\n",
       "    </tr>\n",
       "    <tr>\n",
       "      <td>active</td>\n",
       "      <td>-0.015958</td>\n",
       "      <td>-0.042187</td>\n",
       "      <td>-0.015880</td>\n",
       "      <td>-0.019352</td>\n",
       "      <td>0.000831</td>\n",
       "      <td>0.014258</td>\n",
       "      <td>0.041696</td>\n",
       "      <td>0.024845</td>\n",
       "      <td>0.027847</td>\n",
       "      <td>0.030099</td>\n",
       "      <td>1.000000</td>\n",
       "    </tr>\n",
       "  </tbody>\n",
       "</table>\n",
       "</div>"
      ],
      "text/plain": [
       "                  age    gender    height    weight     ap_hi     ap_lo  \\\n",
       "age          1.000000 -0.050347 -0.109544  0.010730  0.211523  0.156452   \n",
       "gender      -0.050347  1.000000  0.517658  0.183789  0.106121  0.101937   \n",
       "height      -0.109544  0.517658  1.000000  0.336576  0.028606  0.049713   \n",
       "weight       0.010730  0.183789  0.336576  1.000000  0.257364  0.260233   \n",
       "ap_hi        0.211523  0.106121  0.028606  0.257364  1.000000  0.748086   \n",
       "ap_lo        0.156452  0.101937  0.049713  0.260233  0.748086  1.000000   \n",
       "cholesterol  0.163849 -0.004480 -0.031233  0.155033  0.239528  0.218218   \n",
       "gluc         0.048568 -0.014195 -0.028975  0.130572  0.112623  0.115814   \n",
       "smoke       -0.052297  0.329894  0.222860  0.112084  0.086165  0.093022   \n",
       "alco        -0.037773  0.161860  0.107093  0.059541  0.071266  0.063626   \n",
       "active      -0.015958 -0.042187 -0.015880 -0.019352  0.000831  0.014258   \n",
       "\n",
       "             cholesterol      gluc     smoke      alco    active  \n",
       "age             0.163849  0.048568 -0.052297 -0.037773 -0.015958  \n",
       "gender         -0.004480 -0.014195  0.329894  0.161860 -0.042187  \n",
       "height         -0.031233 -0.028975  0.222860  0.107093 -0.015880  \n",
       "weight          0.155033  0.130572  0.112084  0.059541 -0.019352  \n",
       "ap_hi           0.239528  0.112623  0.086165  0.071266  0.000831  \n",
       "ap_lo           0.218218  0.115814  0.093022  0.063626  0.014258  \n",
       "cholesterol     1.000000  0.383634  0.078339  0.027208  0.041696  \n",
       "gluc            0.383634  1.000000  0.023536  0.034993  0.024845  \n",
       "smoke           0.078339  0.023536  1.000000  0.371992  0.027847  \n",
       "alco            0.027208  0.034993  0.371992  1.000000  0.030099  \n",
       "active          0.041696  0.024845  0.027847  0.030099  1.000000  "
      ]
     },
     "execution_count": 86,
     "metadata": {},
     "output_type": "execute_result"
    }
   ],
   "source": [
    "# data correlation \n",
    "real_input.corr()"
   ]
  },
  {
   "cell_type": "code",
   "execution_count": 87,
   "metadata": {},
   "outputs": [
    {
     "data": {
      "text/plain": [
       "([<matplotlib.axis.YTick at 0xe45a610>,\n",
       "  <matplotlib.axis.YTick at 0xe45a230>,\n",
       "  <matplotlib.axis.YTick at 0xe44ca50>,\n",
       "  <matplotlib.axis.YTick at 0xe46d9d0>,\n",
       "  <matplotlib.axis.YTick at 0xe476b50>,\n",
       "  <matplotlib.axis.YTick at 0xe476eb0>,\n",
       "  <matplotlib.axis.YTick at 0xe480210>,\n",
       "  <matplotlib.axis.YTick at 0xe480530>,\n",
       "  <matplotlib.axis.YTick at 0xe480850>,\n",
       "  <matplotlib.axis.YTick at 0xe480b70>,\n",
       "  <matplotlib.axis.YTick at 0xe480e70>],\n",
       " <a list of 11 Text yticklabel objects>)"
      ]
     },
     "execution_count": 87,
     "metadata": {},
     "output_type": "execute_result"
    },
    {
     "data": {
      "image/png": "[encoded data removed]",
      "text/plain": [
       "<Figure size 576x576 with 1 Axes>"
      ]
     },
     "metadata": {
      "needs_background": "light"
     },
     "output_type": "display_data"
    }
   ],
   "source": [
    "# graphical representation of data correlation\n",
    "# data correlation means dependency of data among each others i.e.\n",
    "# dependency of attributes among each other\n",
    "'''\n",
    "data correlation formula between two attributes (data columns) X and Y -\n",
    "\n",
    "            Σ(X - Xmean) * Σ(Y - Ymean) \n",
    "corr = -------------------------------------\n",
    "       sqrt(Σ(X - Xmean)^2 * Σ(Y - Ymean)^2)\n",
    "       \n",
    "'''\n",
    "plt.matshow(real_input.corr())\n",
    "plt.xticks(ticks = np.arange(real_input.columns.size), labels = real_input.columns)\n",
    "plt.yticks(ticks = np.arange(real_input.columns.size), labels = real_input.columns)"
   ]
  },
  {
   "cell_type": "code",
   "execution_count": 88,
   "metadata": {},
   "outputs": [],
   "source": [
    "# input, hidden, output neurons declaration\n",
    "input_neurons  = real_input.columns.size\n",
    "hidden_neurons = 7 # any number but (2/3) * (input_neurons+output_neurons) is better.\n",
    "output_neurons = 1"
   ]
  },
  {
   "cell_type": "code",
   "execution_count": 89,
   "metadata": {},
   "outputs": [],
   "source": [
    "# split real_input and real_output into train and test input, output taking\n",
    "# traing data = 75% of dataset\n",
    "# test data = 25% of dataset\n",
    "\n",
    "# input\n",
    "train_input  = real_input.sample(frac = .75).sort_index().copy()\n",
    "train_output = real_output.loc[real_input.index.intersection(train_input.index)].copy()\n",
    "\n",
    "# split output\n",
    "test_input  = real_input.loc[real_input.index.difference(train_input.index)].copy()\n",
    "test_output = real_output.loc[real_output.index.difference(train_output.index)].copy()"
   ]
  },
  {
   "cell_type": "code",
   "execution_count": 90,
   "metadata": {},
   "outputs": [],
   "source": [
    "# converting real_input and real_output to numpy array for easy calculation\n",
    "\n",
    "train_input  = np.array(train_input,  dtype = np.float64).T # transpose\n",
    "train_output = np.array(train_output, dtype = np.float64).T \n",
    "\n",
    "test_input  = np.array(test_input,  dtype = np.float64).T\n",
    "test_output = np.array(test_output, dtype = np.float64).T"
   ]
  },
  {
   "cell_type": "code",
   "execution_count": 91,
   "metadata": {},
   "outputs": [
    {
     "data": {
      "text/plain": [
       "(array([[-0.1552353 , -0.07647269, -0.41548837,  0.5343748 , -0.00316502,\n",
       "         -0.54477921, -0.42856874],\n",
       "        [-0.30317581,  0.52405494, -0.3374043 ,  0.38786487,  0.3834264 ,\n",
       "          0.12736108,  0.12864781],\n",
       "        [ 0.0364016 ,  0.35752018,  0.35507402, -0.37134883, -0.51203285,\n",
       "         -0.51033198, -0.34317988],\n",
       "        [-0.54905704,  0.53087701, -0.12337117,  0.32056084,  0.35339698,\n",
       "          0.47666733,  0.55352148],\n",
       "        [-0.25229669,  0.07511744,  0.48446532, -0.42382918,  0.56170142,\n",
       "          0.03588903,  0.55504767],\n",
       "        [-0.23666074, -0.37622814,  0.2881943 , -0.35304203,  0.18847718,\n",
       "         -0.51537709, -0.43624285],\n",
       "        [-0.25541076,  0.22371081, -0.46373846,  0.23228818,  0.19518096,\n",
       "          0.50983127, -0.57159624],\n",
       "        [-0.22689731, -0.47727169,  0.22219819, -0.37642022, -0.0202249 ,\n",
       "          0.48626552, -0.56960405],\n",
       "        [-0.09927523, -0.19131248, -0.06152308,  0.50597733, -0.26917407,\n",
       "         -0.21163326, -0.16196884],\n",
       "        [ 0.4281288 ,  0.34218322,  0.25001865, -0.16998288,  0.05940766,\n",
       "          0.44022211,  0.02496186],\n",
       "        [ 0.39807826, -0.34054754,  0.07667104,  0.0210032 ,  0.26479715,\n",
       "         -0.15621068, -0.20620342]]), array([[0.80254236],\n",
       "        [0.03291625],\n",
       "        [0.72816515],\n",
       "        [0.61962479],\n",
       "        [0.13337322],\n",
       "        [0.88494254],\n",
       "        [0.42346365]]), array([[-0.77312719],\n",
       "        [-0.75053435],\n",
       "        [-0.7470519 ],\n",
       "        [-0.785389  ],\n",
       "        [ 0.24459624],\n",
       "        [-0.00187182],\n",
       "        [-0.06956518]]), array([[0.42596309]]))"
      ]
     },
     "execution_count": 91,
     "metadata": {},
     "output_type": "execute_result"
    }
   ],
   "source": [
    "# hidden_weights, output_weights,\n",
    "# hidden_biases,  output_biases initialization\n",
    "# Xavier initialization \n",
    "hidden_weights = np.sqrt(6 / (input_neurons + hidden_neurons)) * \\\n",
    "                 np.random.uniform(low=-1, high=1, size = (input_neurons, hidden_neurons))\n",
    "\n",
    "hidden_biases  = np.random.random((hidden_neurons, 1))\n",
    "\n",
    "output_weights = np.sqrt(6 / (hidden_neurons + output_neurons)) * \\\n",
    "                 np.random.uniform(low=-1, high=1, size = (hidden_neurons, output_neurons))\n",
    "\n",
    "output_biases  = np.random.random((output_neurons, 1))\n",
    "\n",
    "hidden_weights, hidden_biases, output_weights, output_biases"
   ]
  },
  {
   "cell_type": "code",
   "execution_count": 92,
   "metadata": {},
   "outputs": [],
   "source": [
    "# sum of square errors (sse) which is a measure to calculate error and\n",
    "# derivative of sse (necessary for gradient descent calculation in backpropagation)\n",
    "net_hidden_output    = np.zeros((hidden_neurons, train_output.shape[0]),  dtype = np.float64)\n",
    "hidden_output        = np.zeros((hidden_neurons, train_output.shape[0]),  dtype = np.float64)\n",
    "net_predicted_output = np.zeros((output_neurons, train_output.shape[0]),  dtype = np.float64)\n",
    "predicted_output     = np.zeros((output_neurons, train_output.shape[0]),  dtype = np.float64)\n",
    "sse  = np.zeros((output_neurons, train_output.shape[0]),  dtype = np.float64)\n",
    "dsse = np.zeros((output_neurons, train_output.shape[0]),  dtype = np.float64)"
   ]
  },
  {
   "cell_type": "code",
   "execution_count": 93,
   "metadata": {},
   "outputs": [],
   "source": [
    "# necessary functions declarations\n",
    "# activation function declaration\n",
    "def tanh(x):\n",
    "    return np.tanh(x)\n",
    "\n",
    "def dtanh(x): # derivative of tanh\n",
    "    return (4 * np.exp(2*x)) / (np.exp(2*x) + 1)**2\n",
    "\n",
    "# feed-forward calculation\n",
    "def feed_forward():\n",
    "    global hidden_weights, hidden_biases,\\\n",
    "           output_weights, output_biases,\\\n",
    "           net_hidden_output, hidden_output,\\\n",
    "           net_predicted_output, predicted_output,\\\n",
    "           min_value_not_matched,\\\n",
    "           sse, dsse\n",
    "\n",
    "    net_hidden_output    = np.dot(hidden_weights.T, train_input)   + hidden_biases    \n",
    "    hidden_output        = tanh(net_hidden_output)    \n",
    "    net_predicted_output = np.dot(output_weights.T, hidden_output) + output_biases   \n",
    "    predicted_output     = tanh(net_predicted_output)\n",
    "    \n",
    "    # values not matched after prediction calculation\n",
    "    value_not_matched = np.sum(np.abs(train_output - np.where(predicted_output >= 0.5, 1, 0)))\n",
    "    min_value_not_matched = min(min_value_not_matched, value_not_matched)\n",
    "    \n",
    "    # sse, derivative of sse\n",
    "    sse  = 0.5 * (predicted_output - train_output)**2\n",
    "    dsse = (predicted_output - train_output)\n",
    "    return 0\n",
    "\n",
    "# backpropagation calculation\n",
    "def back_propagation():\n",
    "    global hidden_weights, hidden_biases,\\\n",
    "           output_weights, output_biases,\\\n",
    "           net_hidden_output, hidden_output,\\\n",
    "           net_predicted_output, predicted_output,\\\n",
    "           sse, dsse, dataset_len\n",
    "    \n",
    "    # gradient descent calculation\n",
    "    grad_output_weights = np.zeros((hidden_neurons, output_neurons))\n",
    "    for i in range(hidden_neurons):\n",
    "        for j in range(output_neurons):\n",
    "            grad_output_weights[i, j] += np.sum(hidden_output[i] *\\\n",
    "                                               dsse[j] * dtanh(net_predicted_output[j]))\n",
    "    grad_output_weights /= dataset_len\n",
    "            \n",
    "    grad_output_biases = np.zeros((output_neurons, 1))\n",
    "    for i in range(output_neurons):\n",
    "        grad_output_biases[i, 0] += np.sum(dsse[i] * dtanh(net_predicted_output[i]))\n",
    "    grad_output_biases /= dataset_len\n",
    "    \n",
    "    grad_hidden_weights = np.zeros((input_neurons, hidden_neurons))\n",
    "    for i in range(input_neurons):\n",
    "        for j in range(hidden_neurons):\n",
    "            for k in range(output_neurons):\n",
    "                grad_hidden_weights[i, j] += np.sum(train_input[i] \\\n",
    "                                            * dtanh(net_hidden_output[j]) \\\n",
    "                                            * output_weights[j, k] \\\n",
    "                                            * dtanh(net_predicted_output[k]) \\\n",
    "                                            * dsse[k])\n",
    "    grad_hidden_weights /= dataset_len\n",
    "            \n",
    "    grad_hidden_biases = np.zeros((hidden_neurons, 1))\n",
    "    for i in range(hidden_neurons):\n",
    "        for j in range(output_neurons):\n",
    "            grad_hidden_biases[i, 0] += np.sum(dtanh(net_hidden_output[i]) *\\\n",
    "                                               output_weights[i, j]\\\n",
    "                                               * dtanh(net_predicted_output[j]) * dsse[j])\n",
    "    grad_hidden_biases /= dataset_len\n",
    "            \n",
    "    n = .01 # learning rate\n",
    "    \n",
    "    # update weights and biases\n",
    "    output_weights -= n * grad_output_weights\n",
    "    output_biases  -= n * grad_output_biases\n",
    "    hidden_weights -= n * grad_hidden_weights\n",
    "    hidden_biases  -= n * grad_hidden_biases\n",
    "    return 0"
   ]
  },
  {
   "cell_type": "code",
   "execution_count": 94,
   "metadata": {},
   "outputs": [
    {
     "data": {
      "text/plain": [
       "464.74227142333984"
      ]
     },
     "execution_count": 94,
     "metadata": {},
     "output_type": "execute_result"
    }
   ],
   "source": [
    "epoches = 10000\n",
    "Iterations = []\n",
    "Cost = []\n",
    "min_value_not_matched = dataset_len # for highest accuracy calculation\n",
    "\n",
    "# Time taken for activation function tanh(x)\n",
    "start_time = time.time()\n",
    "\n",
    "# Iterative ANN\n",
    "for i in range(epoches):\n",
    "    feed_forward()\n",
    "    back_propagation()\n",
    "    Iterations.append(i)\n",
    "    Cost.append(np.sum(sse))\n",
    "    \n",
    "# stop time\n",
    "end_time = time.time()\n",
    "\n",
    "# time taken (seconds) for activation function tanh\n",
    "end_time - start_time"
   ]
  },
  {
   "cell_type": "code",
   "execution_count": 95,
   "metadata": {},
   "outputs": [
    {
     "name": "stdout",
     "output_type": "stream",
     "text": [
      "sse =  161.57435506223464\n",
      "updated weights and biases = \n"
     ]
    },
    {
     "data": {
      "text/plain": [
       "(array([[-0.24945065, -0.17460628, -0.48353653,  0.46317761,  0.02438683,\n",
       "         -0.53998194, -0.43802313],\n",
       "        [-0.38461368,  0.44875452, -0.39682587,  0.33202093,  0.40318187,\n",
       "          0.13148519,  0.12093477],\n",
       "        [-0.05878252,  0.25854452,  0.28890704, -0.44686915, -0.48289254,\n",
       "         -0.50531666, -0.35276919],\n",
       "        [-0.62050085,  0.45848146, -0.17405106,  0.26717481,  0.37317935,\n",
       "          0.48016254,  0.546551  ],\n",
       "        [-0.33025591, -0.00311709,  0.43411262, -0.48771675,  0.58145138,\n",
       "          0.04000872,  0.54764719],\n",
       "        [-0.30625533, -0.44716317,  0.24300149, -0.40939826,  0.2056172 ,\n",
       "         -0.51205394, -0.44317172],\n",
       "        [-0.27992366,  0.19839242, -0.48537481,  0.21641971,  0.19988262,\n",
       "          0.51064302, -0.5739099 ],\n",
       "        [-0.21731201, -0.47316408,  0.22817772, -0.36755386, -0.02498774,\n",
       "          0.48553375, -0.56926244],\n",
       "        [-0.12187162, -0.21370701, -0.07651078,  0.49292522, -0.26330198,\n",
       "         -0.21034832, -0.1641202 ],\n",
       "        [ 0.40085165,  0.31517899,  0.23288549, -0.19141188,  0.06728766,\n",
       "          0.44194358,  0.02254044],\n",
       "        [ 0.30854607, -0.44437859,  0.01558708, -0.05265358,  0.28567983,\n",
       "         -0.15278835, -0.21655192]]), array([[ 0.64756088],\n",
       "        [-0.13319302],\n",
       "        [ 0.62007626],\n",
       "        [ 0.4967926 ],\n",
       "        [ 0.17987121],\n",
       "        [ 0.89241508],\n",
       "        [ 0.40746762]]), array([[-0.74423597],\n",
       "        [-0.70047092],\n",
       "        [-0.61086413],\n",
       "        [-0.6570159 ],\n",
       "        [ 0.39049761],\n",
       "        [ 0.0713146 ],\n",
       "        [-0.03968497]]), array([[0.67205745]]))"
      ]
     },
     "execution_count": 95,
     "metadata": {},
     "output_type": "execute_result"
    }
   ],
   "source": [
    "# sse, updated weights, biases\n",
    "print(\"sse = \", np.sum(sse))\n",
    "print(\"updated weights and biases = \")\n",
    "hidden_weights, hidden_biases, output_weights, output_biases"
   ]
  },
  {
   "cell_type": "code",
   "execution_count": 96,
   "metadata": {
    "scrolled": true
   },
   "outputs": [
    {
     "name": "stdout",
     "output_type": "stream",
     "text": [
      "predicted output = \n",
      " [0.77553818 0.22023749 0.42504841 ... 0.25461698 0.40579256 0.77922767]\n",
      "predicted output after thresholded = \n",
      " [1 0 0 ... 0 0 1]\n",
      "train output = \n",
      " [0. 0. 1. ... 0. 1. 1.]\n"
     ]
    }
   ],
   "source": [
    "# predicted output, predicted_output after thresholded, real output\n",
    "print(\"predicted output = \\n\", *predicted_output)\n",
    "predicted_output = np.where(predicted_output >= 0.5, 1, 0)\n",
    "print(\"predicted output after thresholded = \\n\",\\\n",
    "      *predicted_output)\n",
    "print(\"train output = \\n\", *train_output)"
   ]
  },
  {
   "cell_type": "code",
   "execution_count": 97,
   "metadata": {},
   "outputs": [
    {
     "data": {
      "text/html": [
       "<div>\n",
       "<style scoped>\n",
       "    .dataframe tbody tr th:only-of-type {\n",
       "        vertical-align: middle;\n",
       "    }\n",
       "\n",
       "    .dataframe tbody tr th {\n",
       "        vertical-align: top;\n",
       "    }\n",
       "\n",
       "    .dataframe thead th {\n",
       "        text-align: right;\n",
       "    }\n",
       "</style>\n",
       "<table border=\"1\" class=\"dataframe\">\n",
       "  <thead>\n",
       "    <tr style=\"text-align: right;\">\n",
       "      <th></th>\n",
       "      <th>no-cardio</th>\n",
       "      <th>cardio</th>\n",
       "    </tr>\n",
       "  </thead>\n",
       "  <tbody>\n",
       "    <tr>\n",
       "      <td>no-cardio</td>\n",
       "      <td>517</td>\n",
       "      <td>228</td>\n",
       "    </tr>\n",
       "    <tr>\n",
       "      <td>cardio</td>\n",
       "      <td>241</td>\n",
       "      <td>516</td>\n",
       "    </tr>\n",
       "  </tbody>\n",
       "</table>\n",
       "</div>"
      ],
      "text/plain": [
       "           no-cardio  cardio\n",
       "no-cardio        517     228\n",
       "cardio           241     516"
      ]
     },
     "execution_count": 97,
     "metadata": {},
     "output_type": "execute_result"
    }
   ],
   "source": [
    "# confusion matrix for train data\n",
    "# rows represent expected class and columns represent predicted class\n",
    "# more at https://machinelearningmastery.com/confusion-matrix-machine-learning/\n",
    "'''  \n",
    "         |     event      |    no-event\n",
    "------------------------------------------        \n",
    "event    | true  positive | false positive\n",
    "no-event | false negative | true  negative\n",
    "'''\n",
    "\n",
    "columns = [\"no-cardio\", \"cardio\"]\n",
    "index   = [\"no-cardio\", \"cardio\"]\n",
    "confusion_matrix = pd.DataFrame(columns = columns, index = index)\n",
    "\n",
    "confusion_matrix.loc[\"no-cardio\", \"no-cardio\"] = \\\n",
    "            predicted_output[(train_output == 0) & (predicted_output == 0)].size\n",
    "\n",
    "confusion_matrix.loc[\"cardio\", \"cardio\"] = \\\n",
    "            predicted_output[(train_output == 1) & (predicted_output == 1)].size\n",
    "\n",
    "confusion_matrix.loc[\"cardio\", \"no-cardio\"] = \\\n",
    "            predicted_output[(train_output == 0) & (predicted_output == 1)].size\n",
    "\n",
    "confusion_matrix.loc[\"no-cardio\", \"cardio\"] = \\\n",
    "            predicted_output[(train_output == 1) & (predicted_output == 0)].size\n",
    "\n",
    "confusion_matrix"
   ]
  },
  {
   "cell_type": "code",
   "execution_count": 106,
   "metadata": {},
   "outputs": [
    {
     "name": "stdout",
     "output_type": "stream",
     "text": [
      "Minimum Values not matched =  153.0\n",
      "Highest train data accuracy = 89.81358189081226 %\n"
     ]
    }
   ],
   "source": [
    "# accuracy calculation\n",
    "print(\"Minimum Values not matched = \", min_value_not_matched)\n",
    "accuracy = (train_output.size - min_value_not_matched) / train_output.size * 100\n",
    "print(\"Highest train data accuracy =\", accuracy, \"%\")"
   ]
  },
  {
   "cell_type": "code",
   "execution_count": 99,
   "metadata": {},
   "outputs": [
    {
     "data": {
      "image/png": "[encoded data removed]",
      "text/plain": [
       "<Figure size 864x576 with 1 Axes>"
      ]
     },
     "metadata": {
      "needs_background": "light"
     },
     "output_type": "display_data"
    }
   ],
   "source": [
    "# graph plot\n",
    "plt.plot(Iterations, Cost, 'g-')\n",
    "plt.grid(True)\n",
    "plt.xlabel(\"Iterations\")\n",
    "plt.ylabel(\"Cost\")\n",
    "plt.show()"
   ]
  },
  {
   "cell_type": "code",
   "execution_count": 100,
   "metadata": {},
   "outputs": [],
   "source": [
    "# test data calcluation\n",
    "\n",
    "net_hidden_output    = np.zeros((hidden_neurons, test_output.shape[0]),  dtype = np.float64)\n",
    "hidden_output        = np.zeros((hidden_neurons, test_output.shape[0]),  dtype = np.float64)\n",
    "net_predicted_output = np.zeros((output_neurons, test_output.shape[0]),  dtype = np.float64)\n",
    "predicted_output     = np.zeros((output_neurons, test_output.shape[0]),  dtype = np.float64)\n",
    "sse  = np.zeros((output_neurons, test_output.shape[0]),  dtype = np.float64)\n",
    "dsse = np.zeros((output_neurons, test_output.shape[0]),  dtype = np.float64)\n",
    "\n",
    "net_hidden_output    = np.dot(hidden_weights.T, test_input)    + hidden_biases    \n",
    "hidden_output        = tanh(net_hidden_output)    \n",
    "net_predicted_output = np.dot(output_weights.T, hidden_output) + output_biases   \n",
    "predicted_output     = tanh(net_predicted_output)\n",
    "\n",
    "# values not matched after prediction calculation\n",
    "value_not_matched = np.sum(np.abs(test_output - np.where(predicted_output >= 0.5, 1, 0)))\n",
    "min_value_not_matched = min(min_value_not_matched, value_not_matched)\n",
    "\n",
    "# sse, derivative of sse\n",
    "sse  = 0.5 * (predicted_output - test_output)**2\n",
    "dsse = (predicted_output - test_output)"
   ]
  },
  {
   "cell_type": "code",
   "execution_count": 101,
   "metadata": {},
   "outputs": [
    {
     "name": "stdout",
     "output_type": "stream",
     "text": [
      "sse =  50.60236663480977\n"
     ]
    }
   ],
   "source": [
    "# sse, updated weights, biases\n",
    "print(\"sse = \", np.sum(sse))"
   ]
  },
  {
   "cell_type": "code",
   "execution_count": 102,
   "metadata": {},
   "outputs": [],
   "source": [
    "predicted_output = np.where(predicted_output >= 0.5, 1, 0)"
   ]
  },
  {
   "cell_type": "code",
   "execution_count": 103,
   "metadata": {},
   "outputs": [
    {
     "data": {
      "text/html": [
       "<div>\n",
       "<style scoped>\n",
       "    .dataframe tbody tr th:only-of-type {\n",
       "        vertical-align: middle;\n",
       "    }\n",
       "\n",
       "    .dataframe tbody tr th {\n",
       "        vertical-align: top;\n",
       "    }\n",
       "\n",
       "    .dataframe thead th {\n",
       "        text-align: right;\n",
       "    }\n",
       "</style>\n",
       "<table border=\"1\" class=\"dataframe\">\n",
       "  <thead>\n",
       "    <tr style=\"text-align: right;\">\n",
       "      <th></th>\n",
       "      <th>no-cardio</th>\n",
       "      <th>cardio</th>\n",
       "    </tr>\n",
       "  </thead>\n",
       "  <tbody>\n",
       "    <tr>\n",
       "      <td>no-cardio</td>\n",
       "      <td>164</td>\n",
       "      <td>76</td>\n",
       "    </tr>\n",
       "    <tr>\n",
       "      <td>cardio</td>\n",
       "      <td>77</td>\n",
       "      <td>183</td>\n",
       "    </tr>\n",
       "  </tbody>\n",
       "</table>\n",
       "</div>"
      ],
      "text/plain": [
       "           no-cardio  cardio\n",
       "no-cardio        164      76\n",
       "cardio            77     183"
      ]
     },
     "execution_count": 103,
     "metadata": {},
     "output_type": "execute_result"
    }
   ],
   "source": [
    "# confusion matrix for test data\n",
    "# rows represent expected class and columns represent predicted class\n",
    "# more at https://machinelearningmastery.com/confusion-matrix-machine-learning/\n",
    "'''  \n",
    "         |     event      |    no-event\n",
    "------------------------------------------        \n",
    "event    | true  positive | false positive\n",
    "no-event | false negative | true  negative\n",
    "'''\n",
    "\n",
    "columns = [\"no-cardio\", \"cardio\"]\n",
    "index   = [\"no-cardio\", \"cardio\"]\n",
    "confusion_matrix = pd.DataFrame(columns = columns, index = index)\n",
    "\n",
    "confusion_matrix.loc[\"no-cardio\", \"no-cardio\"] = \\\n",
    "            predicted_output[(test_output == 0) & (predicted_output == 0)].size\n",
    "\n",
    "confusion_matrix.loc[\"cardio\", \"cardio\"] = \\\n",
    "            predicted_output[(test_output == 1) & (predicted_output == 1)].size\n",
    "\n",
    "confusion_matrix.loc[\"cardio\", \"no-cardio\"] = \\\n",
    "            predicted_output[(test_output == 0) & (predicted_output == 1)].size\n",
    "\n",
    "confusion_matrix.loc[\"no-cardio\", \"cardio\"] = \\\n",
    "            predicted_output[(test_output == 1) & (predicted_output == 0)].size\n",
    "\n",
    "confusion_matrix"
   ]
  },
  {
   "cell_type": "code",
   "execution_count": 104,
   "metadata": {},
   "outputs": [
    {
     "data": {
      "text/plain": [
       "69.39999999999999"
      ]
     },
     "execution_count": 104,
     "metadata": {},
     "output_type": "execute_result"
    }
   ],
   "source": [
    "# classification match, mismatch, accuracy etc calculation from confusion matrix\n",
    "\n",
    "# no-cardio classified as no-cardio\n",
    "no_cardio_matched = confusion_matrix.loc[\"no-cardio\", \"no-cardio\"]\n",
    "\n",
    "# cardio classified as cardio\n",
    "cardio_matched = confusion_matrix.loc[\"cardio\", \"cardio\"]\n",
    "\n",
    "# no-cardio classified as cardio\n",
    "no_cardio_mismatched = confusion_matrix.loc[\"no-cardio\", \"cardio\"]\n",
    "\n",
    "# cardio classified as no-cardio\n",
    "cardio_mismatched = confusion_matrix.loc[\"cardio\", \"no-cardio\"]\n",
    "\n",
    "total_matched    = no_cardio_matched    + cardio_matched\n",
    "total_mismatched = no_cardio_mismatched + cardio_mismatched\n",
    "\n",
    "accuracy = total_matched / test_output.size * 100.\n",
    "\n",
    "accuracy"
   ]
  },
  {
   "cell_type": "code",
   "execution_count": 105,
   "metadata": {},
   "outputs": [
    {
     "data": {
      "text/plain": [
       "(11, 1502)"
      ]
     },
     "execution_count": 105,
     "metadata": {},
     "output_type": "execute_result"
    }
   ],
   "source": [
    "train_input.shape"
   ]
  },
  {
   "cell_type": "code",
   "execution_count": null,
   "metadata": {},
   "outputs": [],
   "source": []
  }
 ],
 "metadata": {
  "kernelspec": {
   "display_name": "Python 3",
   "language": "python",
   "name": "python3"
  },
  "language_info": {
   "codemirror_mode": {
    "name": "ipython",
    "version": 3
   },
   "file_extension": ".py",
   "mimetype": "text/x-python",
   "name": "python",
   "nbconvert_exporter": "python",
   "pygments_lexer": "ipython3",
   "version": "3.7.4"
  }
 },
 "nbformat": 4,
 "nbformat_minor": 2
}
